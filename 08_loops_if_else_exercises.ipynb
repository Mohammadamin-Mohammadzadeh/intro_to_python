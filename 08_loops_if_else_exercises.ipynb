{
 "cells": [
  {
   "cell_type": "markdown",
   "metadata": {},
   "source": [
    "# Exercises\n",
    "\n",
    "1. Write a python program to detect integer items in a list of string items, cast them to int, and print them out.\n",
    "\n",
    "example: \n",
    "input: lst = ['11', 'pooya', '10', '10.5']\n",
    "\n",
    "result: 11 10\n",
    "\n",
    "note: in this exercise you are not allowed to use:\n",
    "\n",
    "try except, str.isdecimal, and ,,,\n",
    "\n",
    "just use: for, while, True False if, and so on. "
   ]
  },
  {
   "cell_type": "code",
   "execution_count": 1,
   "metadata": {},
   "outputs": [],
   "source": [
    "# answer"
   ]
  },
  {
   "cell_type": "markdown",
   "metadata": {},
   "source": [
    "2. Write a python program to print all even numbers from a given list of numbers in the same order. Then, if a number larger than 237 is met in the sequence, break the process.\n",
    "Sample numbers list :\n",
    "\n",
    "numbers = [386, 462, 47, 418, 907, 344, 236, 375, 823, 566, 597, 978, 328, 615, 953, 345, \n",
    "    399, 162, 758, 219, 918, 237, 412, 566, 826, 248, 866, 950, 626, 949, 687, 217, \n",
    "    815, 67, 104, 58, 512, 24, 892, 894, 767, 553, 81, 379, 843, 831, 445, 742, 717, \n",
    "    958,743, 527\n",
    "    ]\n"
   ]
  },
  {
   "cell_type": "code",
   "execution_count": 2,
   "metadata": {},
   "outputs": [],
   "source": [
    "# answer"
   ]
  },
  {
   "cell_type": "markdown",
   "metadata": {},
   "source": [
    "3.Write a python program to sum two given integers. If the sum is within the range of 15 to 20, it returns 20."
   ]
  },
  {
   "cell_type": "code",
   "execution_count": 3,
   "metadata": {},
   "outputs": [],
   "source": [
    "# answer"
   ]
  },
  {
   "cell_type": "markdown",
   "metadata": {},
   "source": [
    "4. Write a Python program to count the members of a list and print them\n",
    "\n",
    "example = [1,5,6,1,1,'s','s','pooya']\n",
    "\n",
    "res:\n",
    "\n",
    "        1 >>> 3\n",
    "        \n",
    "        5 >>> 1\n",
    "        \n",
    "        6 >>> 1\n",
    "        \n",
    "        's' >>> 2\n",
    "        \n",
    "        'pooya' >>> 1\n",
    "\n",
    "note: in this exercise you are not allowed to use:\n",
    "collection.Counter, np.unique, list.count, and so on.\n",
    "just use for, while, True, False, and ..."
   ]
  },
  {
   "cell_type": "code",
   "execution_count": 4,
   "metadata": {},
   "outputs": [],
   "source": [
    "# answer"
   ]
  },
  {
   "cell_type": "markdown",
   "metadata": {},
   "source": [
    "5. Make a two-player Rock-Paper-Scissors game. \n",
    "1. Ask players to play and get their stands by calling the `input` function two times,\n",
    "2. compare the two inputs,\n",
    "3. print out a message of congratulation to the winner, \n",
    "4. ask whether the players want to play a new round."
   ]
  },
  {
   "cell_type": "code",
   "execution_count": 5,
   "metadata": {},
   "outputs": [],
   "source": [
    "# answer"
   ]
  },
  {
   "cell_type": "markdown",
   "metadata": {},
   "source": [
    "*_:)_*"
   ]
  }
 ],
 "metadata": {
  "kernelspec": {
   "display_name": "Python 3 (ipykernel)",
   "language": "python",
   "name": "python3"
  },
  "language_info": {
   "codemirror_mode": {
    "name": "ipython",
    "version": 3
   },
   "file_extension": ".py",
   "mimetype": "text/x-python",
   "name": "python",
   "nbconvert_exporter": "python",
   "pygments_lexer": "ipython3",
   "version": "3.10.4"
  }
 },
 "nbformat": 4,
 "nbformat_minor": 2
}
