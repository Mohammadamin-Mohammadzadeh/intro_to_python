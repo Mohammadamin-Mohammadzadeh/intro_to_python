{
 "cells": [
  {
   "cell_type": "code",
   "execution_count": 1,
   "metadata": {},
   "outputs": [],
   "source": [
    "import numpy as np"
   ]
  },
  {
   "cell_type": "code",
   "execution_count": 2,
   "metadata": {},
   "outputs": [
    {
     "data": {
      "text/plain": [
       "array([[-0.86642364,  0.08927528, -0.31172959, -1.08633193, -0.02183899],\n",
       "       [-0.5527823 , -1.97904554,  0.36681884, -1.77124769,  1.24256504],\n",
       "       [-0.88145363, -2.88652448, -0.71176248, -1.13080551, -0.92369397],\n",
       "       [ 1.33957722,  0.26951458,  0.46724597, -0.21994167, -0.33211757]])"
      ]
     },
     "execution_count": 2,
     "metadata": {},
     "output_type": "execute_result"
    }
   ],
   "source": [
    "array = np.random.standard_normal((4,5))\n",
    "array"
   ]
  },
  {
   "cell_type": "code",
   "execution_count": 3,
   "metadata": {},
   "outputs": [
    {
     "data": {
      "text/plain": [
       "array([-0.86642364,  0.08927528, -0.31172959, -1.08633193, -0.02183899,\n",
       "       -0.5527823 , -1.97904554,  0.36681884, -1.77124769,  1.24256504,\n",
       "       -0.88145363, -2.88652448, -0.71176248, -1.13080551, -0.92369397,\n",
       "        1.33957722,  0.26951458,  0.46724597, -0.21994167, -0.33211757])"
      ]
     },
     "execution_count": 3,
     "metadata": {},
     "output_type": "execute_result"
    }
   ],
   "source": [
    "array.reshape((20,))"
   ]
  },
  {
   "cell_type": "code",
   "execution_count": 6,
   "metadata": {},
   "outputs": [
    {
     "data": {
      "text/plain": [
       "array([[-0.86642364,  0.08927528, -0.31172959, -1.08633193, -0.02183899,\n",
       "        -0.5527823 , -1.97904554,  0.36681884, -1.77124769,  1.24256504],\n",
       "       [-0.88145363, -2.88652448, -0.71176248, -1.13080551, -0.92369397,\n",
       "         1.33957722,  0.26951458,  0.46724597, -0.21994167, -0.33211757]])"
      ]
     },
     "execution_count": 6,
     "metadata": {},
     "output_type": "execute_result"
    }
   ],
   "source": [
    "array.reshape((2,10))"
   ]
  },
  {
   "cell_type": "code",
   "execution_count": 9,
   "metadata": {},
   "outputs": [
    {
     "data": {
      "text/plain": [
       "array([[-0.86642364,  0.08927528, -0.31172959, -1.08633193, -0.02183899,\n",
       "        -0.5527823 , -1.97904554,  0.36681884, -1.77124769,  1.24256504],\n",
       "       [-0.88145363, -2.88652448, -0.71176248, -1.13080551, -0.92369397,\n",
       "         1.33957722,  0.26951458,  0.46724597, -0.21994167, -0.33211757]])"
      ]
     },
     "execution_count": 9,
     "metadata": {},
     "output_type": "execute_result"
    }
   ],
   "source": [
    "array.reshape((2, -1))"
   ]
  },
  {
   "cell_type": "code",
   "execution_count": 10,
   "metadata": {},
   "outputs": [],
   "source": [
    "x = np.linspace(0,10,100)\n",
    "sinx = np.sin(x)\n",
    "cosx = np.cos(x)"
   ]
  },
  {
   "cell_type": "code",
   "execution_count": 12,
   "metadata": {
    "scrolled": true
   },
   "outputs": [
    {
     "data": {
      "text/plain": [
       "1.6882473430775704"
      ]
     },
     "execution_count": 12,
     "metadata": {},
     "output_type": "execute_result"
    }
   ],
   "source": [
    "np.dot(sinx, cosx)"
   ]
  },
  {
   "cell_type": "code",
   "execution_count": 13,
   "metadata": {},
   "outputs": [
    {
     "data": {
      "text/plain": [
       "array([1., 1., 1., 1., 1.])"
      ]
     },
     "execution_count": 13,
     "metadata": {},
     "output_type": "execute_result"
    }
   ],
   "source": [
    "ones = np.ones((5,))\n",
    "ones"
   ]
  },
  {
   "cell_type": "code",
   "execution_count": 14,
   "metadata": {},
   "outputs": [
    {
     "data": {
      "text/plain": [
       "array([-2., -1.,  0.,  1.,  2.])"
      ]
     },
     "execution_count": 14,
     "metadata": {},
     "output_type": "execute_result"
    }
   ],
   "source": [
    "line_space = np.linspace(-2, 2, 5)\n",
    "line_space"
   ]
  },
  {
   "cell_type": "code",
   "execution_count": 15,
   "metadata": {},
   "outputs": [
    {
     "data": {
      "text/plain": [
       "array([[-2., -1.,  0.,  1.,  2.],\n",
       "       [-2., -1.,  0.,  1.,  2.],\n",
       "       [-2., -1.,  0.,  1.,  2.],\n",
       "       [-2., -1.,  0.,  1.,  2.],\n",
       "       [-2., -1.,  0.,  1.,  2.]])"
      ]
     },
     "execution_count": 15,
     "metadata": {},
     "output_type": "execute_result"
    }
   ],
   "source": [
    "rl = np.outer(ones, line_space)\n",
    "rl"
   ]
  },
  {
   "cell_type": "markdown",
   "metadata": {},
   "source": [
    "### np.dot"
   ]
  },
  {
   "cell_type": "code",
   "execution_count": 16,
   "metadata": {},
   "outputs": [
    {
     "data": {
      "text/plain": [
       "array([[3., 3., 3., 3., 3.],\n",
       "       [3., 3., 3., 3., 3.],\n",
       "       [3., 3., 3., 3., 3.],\n",
       "       [3., 3., 3., 3., 3.],\n",
       "       [3., 3., 3., 3., 3.],\n",
       "       [3., 3., 3., 3., 3.]])"
      ]
     },
     "execution_count": 16,
     "metadata": {},
     "output_type": "execute_result"
    }
   ],
   "source": [
    "ones = np.ones((6,5)) * 3\n",
    "ones"
   ]
  },
  {
   "cell_type": "code",
   "execution_count": 17,
   "metadata": {},
   "outputs": [
    {
     "data": {
      "text/plain": [
       "(6, 5)"
      ]
     },
     "execution_count": 17,
     "metadata": {},
     "output_type": "execute_result"
    }
   ],
   "source": [
    "ones.shape"
   ]
  },
  {
   "cell_type": "code",
   "execution_count": 18,
   "metadata": {},
   "outputs": [
    {
     "data": {
      "text/plain": [
       "array([[3., 3., 3., 3., 3., 3.],\n",
       "       [3., 3., 3., 3., 3., 3.],\n",
       "       [3., 3., 3., 3., 3., 3.],\n",
       "       [3., 3., 3., 3., 3., 3.],\n",
       "       [3., 3., 3., 3., 3., 3.]])"
      ]
     },
     "execution_count": 18,
     "metadata": {},
     "output_type": "execute_result"
    }
   ],
   "source": [
    "ones_reshaped = ones.reshape(5,6)\n",
    "ones_reshaped"
   ]
  },
  {
   "cell_type": "code",
   "execution_count": 20,
   "metadata": {},
   "outputs": [
    {
     "data": {
      "text/plain": [
       "(5, 5)"
      ]
     },
     "execution_count": 20,
     "metadata": {},
     "output_type": "execute_result"
    }
   ],
   "source": [
    "a = np.dot(ones_reshaped , ones)\n",
    "a.shape"
   ]
  },
  {
   "cell_type": "markdown",
   "metadata": {},
   "source": [
    "### example:"
   ]
  },
  {
   "cell_type": "code",
   "execution_count": 21,
   "metadata": {},
   "outputs": [],
   "source": [
    "A = np.array([[1,2],[3,5],[7,6]])\n",
    "P = np.diag([5,5,5])\n",
    "L = np.array([7,3, 2]).reshape((3,1))\n"
   ]
  },
  {
   "cell_type": "markdown",
   "metadata": {},
   "source": [
    "# ((A'PA)^-1)(A'PL)"
   ]
  },
  {
   "cell_type": "markdown",
   "metadata": {},
   "source": [
    "### check the shape and do A'PL"
   ]
  },
  {
   "cell_type": "code",
   "execution_count": null,
   "metadata": {},
   "outputs": [],
   "source": []
  },
  {
   "cell_type": "markdown",
   "metadata": {},
   "source": [
    "### numpy where"
   ]
  },
  {
   "cell_type": "code",
   "execution_count": null,
   "metadata": {},
   "outputs": [],
   "source": [
    "array = np.array([1,2,3,4])\n",
    "rows = np.where(array >= 2.5)\n",
    "array[rows]"
   ]
  },
  {
   "cell_type": "code",
   "execution_count": 25,
   "metadata": {},
   "outputs": [],
   "source": [
    "t = np.array([[1,2,3,'foo'],\n",
    " [2,3,4,'bar'],\n",
    " [5,6,7,'hello'],\n",
    " [8,9,1,'bar']])"
   ]
  },
  {
   "cell_type": "code",
   "execution_count": 26,
   "metadata": {},
   "outputs": [
    {
     "data": {
      "text/plain": [
       "array([['2', '3', '4', 'bar'],\n",
       "       ['8', '9', '1', 'bar']], dtype='<U11')"
      ]
     },
     "execution_count": 26,
     "metadata": {},
     "output_type": "execute_result"
    }
   ],
   "source": [
    "rows , cols = np.where(t == 'bar')\n",
    "t[rows]"
   ]
  },
  {
   "cell_type": "code",
   "execution_count": 27,
   "metadata": {},
   "outputs": [
    {
     "data": {
      "text/plain": [
       "(array([1, 3], dtype=int64), array([3, 3], dtype=int64))"
      ]
     },
     "execution_count": 27,
     "metadata": {},
     "output_type": "execute_result"
    }
   ],
   "source": [
    "rows, cols"
   ]
  },
  {
   "cell_type": "code",
   "execution_count": 28,
   "metadata": {},
   "outputs": [
    {
     "data": {
      "text/plain": [
       "array([[[ 0.52244067, -0.25952951, -0.69496466],\n",
       "        [ 1.30803882, -1.80737947,  1.95141509],\n",
       "        [ 1.6370388 , -0.00702995,  1.2407647 ],\n",
       "        [ 0.00927551, -0.38702801, -1.25331832],\n",
       "        [ 1.42640831,  1.30628857,  0.66387472]],\n",
       "\n",
       "       [[ 1.17219016,  0.05329882,  0.57942745],\n",
       "        [ 1.25583739,  0.53266955,  0.74313159],\n",
       "        [ 0.11287285,  1.52240463,  1.06094227],\n",
       "        [-0.64866204, -0.0985188 , -0.89873218],\n",
       "        [-0.0170527 ,  0.32089543,  0.46105796]],\n",
       "\n",
       "       [[-0.85243741,  0.77528707, -1.88140457],\n",
       "        [ 1.14351048, -2.42883188,  1.33719335],\n",
       "        [-0.31717864,  0.4558675 , -0.25087043],\n",
       "        [ 0.92297718,  1.76335905,  1.33434689],\n",
       "        [-1.0926585 ,  1.45716157, -1.68074473]],\n",
       "\n",
       "       [[ 0.64771609,  1.45130724,  2.01722474],\n",
       "        [ 1.22926933, -0.35840774, -0.27353778],\n",
       "        [-0.88801068,  0.93731239,  0.45141615],\n",
       "        [-0.61349746, -0.71195081,  0.07462189],\n",
       "        [-0.99674645,  0.01313449, -0.11643111]],\n",
       "\n",
       "       [[ 1.51258274, -0.47106938,  0.21792768],\n",
       "        [-0.85208177,  0.59171706,  0.30893663],\n",
       "        [-0.57185646, -0.05509423,  0.349481  ],\n",
       "        [-0.11763324,  1.96110728,  1.09464818],\n",
       "        [ 1.80007221, -2.39226201,  1.9147881 ]]])"
      ]
     },
     "execution_count": 28,
     "metadata": {},
     "output_type": "execute_result"
    }
   ],
   "source": [
    "array = np.random.standard_normal((5,5,3))\n",
    "array"
   ]
  },
  {
   "cell_type": "code",
   "execution_count": 29,
   "metadata": {
    "scrolled": true
   },
   "outputs": [
    {
     "data": {
      "text/plain": [
       "array([1.30803882, 1.95141509, 1.6370388 , 1.2407647 , 1.42640831,\n",
       "       1.30628857, 1.17219016, 1.25583739, 1.52240463, 1.06094227,\n",
       "       1.14351048, 1.33719335, 1.76335905, 1.33434689, 1.45716157,\n",
       "       1.45130724, 2.01722474, 1.22926933, 1.51258274, 1.96110728,\n",
       "       1.09464818, 1.80007221, 1.9147881 ])"
      ]
     },
     "execution_count": 29,
     "metadata": {},
     "output_type": "execute_result"
    }
   ],
   "source": [
    "rows, cols, heights = np.where(array >= 1)\n",
    "array[rows, cols, heights]"
   ]
  },
  {
   "cell_type": "markdown",
   "metadata": {},
   "source": [
    "*:)*"
   ]
  }
 ],
 "metadata": {
  "kernelspec": {
   "display_name": "Python 3",
   "language": "python",
   "name": "python3"
  },
  "language_info": {
   "codemirror_mode": {
    "name": "ipython",
    "version": 3
   },
   "file_extension": ".py",
   "mimetype": "text/x-python",
   "name": "python",
   "nbconvert_exporter": "python",
   "pygments_lexer": "ipython3",
   "version": "3.7.4"
  }
 },
 "nbformat": 4,
 "nbformat_minor": 1
}
