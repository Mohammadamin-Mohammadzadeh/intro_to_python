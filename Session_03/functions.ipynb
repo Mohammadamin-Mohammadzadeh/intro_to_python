{
 "cells": [
  {
   "cell_type": "markdown",
   "metadata": {},
   "source": [
    "## functions"
   ]
  },
  {
   "cell_type": "code",
   "execution_count": null,
   "metadata": {},
   "outputs": [],
   "source": [
    "# simple function\n",
    "def get_power(num, to_power):\n",
    "    num = float(num)\n",
    "    return num ** to_power"
   ]
  },
  {
   "cell_type": "code",
   "execution_count": null,
   "metadata": {},
   "outputs": [],
   "source": [
    "# call function\n",
    "get_power(10, 3)"
   ]
  },
  {
   "cell_type": "code",
   "execution_count": null,
   "metadata": {},
   "outputs": [],
   "source": [
    "def no_return(statement):\n",
    "    print(statement)"
   ]
  },
  {
   "cell_type": "code",
   "execution_count": null,
   "metadata": {},
   "outputs": [],
   "source": [
    "no_return('hello_world')"
   ]
  },
  {
   "cell_type": "code",
   "execution_count": null,
   "metadata": {},
   "outputs": [],
   "source": [
    "result = no_return('hello_world')\n",
    "print('result is:', result)"
   ]
  },
  {
   "cell_type": "markdown",
   "metadata": {},
   "source": [
    "### function arguments"
   ]
  },
  {
   "cell_type": "code",
   "execution_count": null,
   "metadata": {},
   "outputs": [],
   "source": [
    "def add(var_1, var_2):\n",
    "    print(f'var_1: {var_1}')\n",
    "    print(f'var_2: {var_2}')\n",
    "    return var_1 + var_2"
   ]
  },
  {
   "cell_type": "code",
   "execution_count": null,
   "metadata": {},
   "outputs": [],
   "source": [
    "var = add(10)\n",
    "var"
   ]
  },
  {
   "cell_type": "code",
   "execution_count": null,
   "metadata": {},
   "outputs": [],
   "source": [
    "var = add(10, 20)\n",
    "var"
   ]
  },
  {
   "cell_type": "code",
   "execution_count": null,
   "metadata": {},
   "outputs": [],
   "source": [
    "var = add(var_1=10, var_2=20)\n",
    "var"
   ]
  },
  {
   "cell_type": "code",
   "execution_count": null,
   "metadata": {},
   "outputs": [],
   "source": [
    "var = add(var_2=20, var_1=10)\n",
    "var"
   ]
  },
  {
   "cell_type": "markdown",
   "metadata": {},
   "source": [
    "#### default arguments"
   ]
  },
  {
   "cell_type": "code",
   "execution_count": null,
   "metadata": {},
   "outputs": [],
   "source": [
    "def add(var_1, var_2 = 5):\n",
    "    print(f'var_1 is {var_1}')\n",
    "    print(f'var_2 is {var_2}')\n",
    "    return var_1 + var_2"
   ]
  },
  {
   "cell_type": "code",
   "execution_count": null,
   "metadata": {},
   "outputs": [],
   "source": [
    "add(var_1=15)"
   ]
  },
  {
   "cell_type": "code",
   "execution_count": null,
   "metadata": {},
   "outputs": [],
   "source": [
    "add(1, 15)"
   ]
  },
  {
   "cell_type": "code",
   "execution_count": null,
   "metadata": {},
   "outputs": [],
   "source": [
    "add(var_2=4, var_1=5)"
   ]
  },
  {
   "cell_type": "code",
   "execution_count": null,
   "metadata": {},
   "outputs": [],
   "source": [
    "def add(var_1, var_2=5):\n",
    "    var_3 = var_1 + var_2\n",
    "    \n",
    "res = add(var_1=5)\n",
    "print('res: ', res)"
   ]
  },
  {
   "cell_type": "markdown",
   "metadata": {},
   "source": [
    "### Notes for scope of functions"
   ]
  },
  {
   "cell_type": "code",
   "execution_count": null,
   "metadata": {},
   "outputs": [],
   "source": [
    "var = 10\n",
    "def func_(input_1):\n",
    "    var_ = var + 20\n",
    "    print(var_,input_1)\n",
    "func_(30) \n",
    "print(var)"
   ]
  },
  {
   "cell_type": "code",
   "execution_count": null,
   "metadata": {},
   "outputs": [],
   "source": [
    "var = 10\n",
    "def func_(input_1):\n",
    "    var += input_1\n",
    "    print(var,input_1)\n",
    "func_(30)"
   ]
  },
  {
   "cell_type": "code",
   "execution_count": null,
   "metadata": {},
   "outputs": [],
   "source": [
    "var = 10\n",
    "def func_(input_1):\n",
    "    var = 20\n",
    "    print(var,input_1)\n",
    "func_(30) \n",
    "print(var)"
   ]
  },
  {
   "cell_type": "code",
   "execution_count": null,
   "metadata": {},
   "outputs": [],
   "source": [
    "var = [10, 2]\n",
    "def func_(input_1):\n",
    "    input_1[0] = 0\n",
    "    print(var,input_1)\n",
    "func_(var) \n",
    "print(var)"
   ]
  },
  {
   "cell_type": "markdown",
   "metadata": {},
   "source": [
    "## *args and **kwargs in Python\n",
    "\n",
    "### *args"
   ]
  },
  {
   "cell_type": "code",
   "execution_count": null,
   "metadata": {},
   "outputs": [],
   "source": [
    "def func(*args): \n",
    "    print(type(args))\n",
    "    for arg in args:  \n",
    "        print(arg)\n",
    "func('hello', 'dear', 'friends', 'pooya', 'menoo') "
   ]
  },
  {
   "cell_type": "code",
   "execution_count": null,
   "metadata": {},
   "outputs": [],
   "source": [
    "def sum_(*args):\n",
    "    sum = 0\n",
    "    for arg in args:\n",
    "        sum += arg\n",
    "    return sum    \n",
    "sum_(0,10,3,6,9)"
   ]
  },
  {
   "cell_type": "code",
   "execution_count": null,
   "metadata": {},
   "outputs": [],
   "source": [
    "def func(arg_1, *args): \n",
    "    print (\"First argument :\", arg_1) \n",
    "    for arg in args: \n",
    "        print(\"Next argument through *argv :\", arg) \n",
    "func('Hello', 'Welcome', 'to', 'python_dm') "
   ]
  },
  {
   "cell_type": "code",
   "execution_count": null,
   "metadata": {},
   "outputs": [],
   "source": [
    "def func(**kwargs):  \n",
    "    for key, value in kwargs.items(): \n",
    "        print (\"%s == %s\" %(key, value)) \n",
    "func(first ='python', mid ='dm', last='kntu') "
   ]
  },
  {
   "cell_type": "code",
   "execution_count": null,
   "metadata": {},
   "outputs": [],
   "source": [
    "def func(part, **kwargs):\n",
    "    if part == 'first':\n",
    "        result = kwargs['first']\n",
    "    elif part == 'second':\n",
    "        result = kwargs['second']\n",
    "    elif part == 'third':\n",
    "        result = kwargs['third']\n",
    "    else:\n",
    "        result = ':('\n",
    "    print(result)\n",
    "func('second', second=15)"
   ]
  },
  {
   "cell_type": "code",
   "execution_count": null,
   "metadata": {},
   "outputs": [],
   "source": [
    "def func(arg_1, *argv, **kwargs): \n",
    "    print (\"First argument :\", arg_1) \n",
    "    for arg in argv: \n",
    "        print(\"Next argument through *argv :\", arg)\n",
    "    print('\\n', 'Kwarg arguments:')\n",
    "    for key, value in kwargs.items(): \n",
    "        print (\"%s == %s\" %(key, value)) \n",
    "func('hi', 'there', 'python', name='pooya', kidding='yeah')"
   ]
  },
  {
   "cell_type": "markdown",
   "metadata": {},
   "source": [
    "### Using *args and **kwargs to call a function"
   ]
  },
  {
   "cell_type": "code",
   "execution_count": null,
   "metadata": {},
   "outputs": [],
   "source": [
    "def func(arg_1, arg_2, arg_3): \n",
    "    print(\"arg_1:\", arg_1) \n",
    "    print(\"arg_2:\", arg_2) \n",
    "    print(\"arg_3:\", arg_3)"
   ]
  },
  {
   "cell_type": "code",
   "execution_count": null,
   "metadata": {},
   "outputs": [],
   "source": [
    "args = (\"python\", \"dm\", \"kntu\") \n",
    "func(*args) "
   ]
  },
  {
   "cell_type": "code",
   "execution_count": null,
   "metadata": {},
   "outputs": [],
   "source": [
    "kwargs = {\"arg_1\" : \"python\", \"arg_2\" : \"dm\", \"arg_3\" : \"kntu\"} \n",
    "func(**kwargs) "
   ]
  },
  {
   "cell_type": "markdown",
   "metadata": {},
   "source": [
    "### doc string"
   ]
  },
  {
   "cell_type": "code",
   "execution_count": null,
   "metadata": {},
   "outputs": [],
   "source": [
    "def get_power(num, to_power):\n",
    "    \"\"\" (float, int) -> float\n",
    "    Return the exponentioal power of the number\n",
    "    \n",
    "    >>> get_power(1, 10)\n",
    "    1\n",
    "    >>> get_power(2.0, 3)\n",
    "    8.0\n",
    "    \"\"\"\n",
    "    num = float(num)\n",
    "    return num ** to_power"
   ]
  },
  {
   "cell_type": "code",
   "execution_count": null,
   "metadata": {},
   "outputs": [],
   "source": [
    "def get_square_tuple(_tuple):\n",
    "    \"\"\" (tuple) -> tuple\n",
    "    Returns square tuple \n",
    "    \n",
    "    >>> get_square_tuple((1, 2, 3, 5))\n",
    "    (1, 4, 9, 25)\n",
    "    \"\"\"\n",
    "    res = tuple()\n",
    "    for t in _tuple:\n",
    "        res = res + (t**2,)\n",
    "    return res"
   ]
  },
  {
   "cell_type": "code",
   "execution_count": null,
   "metadata": {},
   "outputs": [],
   "source": [
    "import doctest\n",
    "doctest.testmod()"
   ]
  },
  {
   "cell_type": "code",
   "execution_count": null,
   "metadata": {},
   "outputs": [],
   "source": [
    "help(get_square_tuple)"
   ]
  },
  {
   "cell_type": "markdown",
   "metadata": {
    "collapsed": true
   },
   "source": [
    "*:)*"
   ]
  }
 ],
 "metadata": {
  "kernelspec": {
   "display_name": "Python 3",
   "language": "python",
   "name": "python3"
  },
  "language_info": {
   "codemirror_mode": {
    "name": "ipython",
    "version": 3
   },
   "file_extension": ".py",
   "mimetype": "text/x-python",
   "name": "python",
   "nbconvert_exporter": "python",
   "pygments_lexer": "ipython3",
   "version": "3.7.4"
  }
 },
 "nbformat": 4,
 "nbformat_minor": 2
}
