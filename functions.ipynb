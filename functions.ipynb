{
 "cells": [
  {
   "cell_type": "markdown",
   "metadata": {},
   "source": [
    "# Functions\n",
    "    1. Creating a Function\n",
    "    2. Calling a Function\n",
    "    3. functions' arguments \n",
    "    4. Docstring\n",
    "    5. Type Hint\n",
    "    6. Function Scope \n",
    "    8. Recursion\n",
    "    9. *args\n",
    "    10. **kwargs\n",
    "    11. pass Statement"
   ]
  },
  {
   "cell_type": "markdown",
   "metadata": {},
   "source": [
    "## Docstring\n",
    "docstrings provide neccessary information about the function, in which they have defined, so users would have a clear and concise understanding of how the function works, what the input parameters should be, what would be outputs, and sometimes they may contain tests to further illusterate the functionalities offered by the function."
   ]
  },
  {
   "cell_type": "code",
   "execution_count": 16,
   "metadata": {},
   "outputs": [],
   "source": [
    "# a simple function with two parameters\n",
    "def get_power(num, to_power):\n",
    "    \"\"\"\n",
    "    This function raises any number to the power of another number\n",
    "    :param num: the base number\n",
    "    :param to_power: the base number will be raised to the power of this input/to_power.  \n",
    "    :return: return the num to the power of to_power\n",
    "    \"\"\"\n",
    "    return num ** to_power"
   ]
  },
  {
   "cell_type": "code",
   "execution_count": 17,
   "metadata": {},
   "outputs": [
    {
     "name": "stdout",
     "output_type": "stream",
     "text": [
      "Help on function get_power in module __main__:\n",
      "\n",
      "get_power(num, to_power)\n",
      "    This function raises any number to the power of another number\n",
      "    :param num: the base number\n",
      "    :param to_power: the base number will be raised to the power of this input/to_power.  \n",
      "    :return: return the num to the power of to_power\n",
      "\n"
     ]
    }
   ],
   "source": [
    "# recommended way\n",
    "help(get_power)"
   ]
  },
  {
   "cell_type": "code",
   "execution_count": 19,
   "metadata": {},
   "outputs": [
    {
     "name": "stdout",
     "output_type": "stream",
     "text": [
      "\n",
      "    This function raises any number to the power of another number\n",
      "    :param num: the base number\n",
      "    :param to_power: the base number will be raised to the power of this input/to_power.  \n",
      "    :return: return the num to the power of to_power\n",
      "    \n"
     ]
    }
   ],
   "source": [
    "# using special methods | not recommended\n",
    "print(get_power.__doc__)"
   ]
  },
  {
   "cell_type": "code",
   "execution_count": 20,
   "metadata": {},
   "outputs": [],
   "source": [
    "# different type of docstrings\n",
    "def get_power(num, to_power):\n",
    "    \"\"\" (float, int) -> float\n",
    "    Return the exponentioal power of the num\n",
    "    \n",
    "    >>> get_power(1, 10)\n",
    "    1\n",
    "    >>> get_power(2.0, 3)\n",
    "    8.0\n",
    "    \"\"\"\n",
    "    num = float(num)\n",
    "    return num ** to_power"
   ]
  },
  {
   "cell_type": "code",
   "execution_count": 22,
   "metadata": {},
   "outputs": [
    {
     "name": "stdout",
     "output_type": "stream",
     "text": [
      "Trying:\n",
      "    get_power(1, 10)\n",
      "Expecting:\n",
      "    1\n",
      "**********************************************************************\n",
      "File \"__main__\", line 6, in __main__.get_power\n",
      "Failed example:\n",
      "    get_power(1, 10)\n",
      "Expected:\n",
      "    1\n",
      "Got:\n",
      "    1.0\n",
      "Trying:\n",
      "    get_power(2.0, 3)\n",
      "Expecting:\n",
      "    8.0\n",
      "ok\n",
      "3 items had no tests:\n",
      "    __main__\n",
      "    __main__.no_return_func\n",
      "    __main__.return_func\n",
      "**********************************************************************\n",
      "1 items had failures:\n",
      "   1 of   2 in __main__.get_power\n",
      "2 tests in 4 items.\n",
      "1 passed and 1 failed.\n",
      "***Test Failed*** 1 failures.\n"
     ]
    },
    {
     "data": {
      "text/plain": [
       "TestResults(failed=1, attempted=2)"
      ]
     },
     "execution_count": 22,
     "metadata": {},
     "output_type": "execute_result"
    }
   ],
   "source": [
    "# To validate tests in docstrings\n",
    "import doctest\n",
    "doctest.testmod(verbose=True)"
   ]
  },
  {
   "cell_type": "markdown",
   "metadata": {},
   "source": [
    "    One of the tests is not correct and if failed! The other one passed!\n",
    "    The test has expected to get 1 but the code returned 1.0, therefore, it failed\n",
    "    Let's fix it!"
   ]
  },
  {
   "cell_type": "code",
   "execution_count": 24,
   "metadata": {},
   "outputs": [
    {
     "name": "stdout",
     "output_type": "stream",
     "text": [
      "Trying:\n",
      "    get_power(1, 10)\n",
      "Expecting:\n",
      "    1.0\n",
      "ok\n",
      "Trying:\n",
      "    get_power(2.0, 3)\n",
      "Expecting:\n",
      "    8.0\n",
      "ok\n",
      "3 items had no tests:\n",
      "    __main__\n",
      "    __main__.no_return_func\n",
      "    __main__.return_func\n",
      "1 items passed all tests:\n",
      "   2 tests in __main__.get_power\n",
      "2 tests in 4 items.\n",
      "2 passed and 0 failed.\n",
      "Test passed.\n"
     ]
    },
    {
     "data": {
      "text/plain": [
       "TestResults(failed=0, attempted=2)"
      ]
     },
     "execution_count": 24,
     "metadata": {},
     "output_type": "execute_result"
    }
   ],
   "source": [
    "# different type of docstrings\n",
    "def get_power(num, to_power):\n",
    "    \"\"\" (float, int) -> float\n",
    "    Return the exponentioal power of the num\n",
    "    \n",
    "    >>> get_power(1, 10)\n",
    "    1.0\n",
    "    >>> get_power(2.0, 3)\n",
    "    8.0\n",
    "    \"\"\"\n",
    "    num = float(num)\n",
    "    return num ** to_power\n",
    "doctest.testmod(verbose=True)"
   ]
  },
  {
   "cell_type": "code",
   "execution_count": 30,
   "metadata": {},
   "outputs": [
    {
     "data": {
      "text/plain": [
       "TestResults(failed=0, attempted=3)"
      ]
     },
     "execution_count": 30,
     "metadata": {},
     "output_type": "execute_result"
    }
   ],
   "source": [
    "def get_square_tuple(tuple_):\n",
    "    \"\"\" (tuple) -> tuple\n",
    "    Returns square tuple \n",
    "    \n",
    "    >>> get_square_tuple((1, 2, 3, 5))\n",
    "    (1, 4, 9, 25)\n",
    "    \"\"\"\n",
    "    res = tuple()\n",
    "    for t in tuple_:\n",
    "        res = res + (t**2,)\n",
    "    return res\n",
    "doctest.testmod()\n",
    "# No failures\n",
    "# All three tests are passed. 2 are from get_power!"
   ]
  },
  {
   "cell_type": "markdown",
   "metadata": {},
   "source": [
    "## Type Hint\n",
    "    Python is a dynamic programming language. It means that the type of variables is not known in advance and can even be changed several times during process. Therefore, it might become frusterating for users to figure out the best input types to a function. In Addition python-users can enjoy the auto-complete/intelligence property provided by using type-hint!"
   ]
  },
  {
   "cell_type": "code",
   "execution_count": 31,
   "metadata": {},
   "outputs": [
    {
     "name": "stdout",
     "output_type": "stream",
     "text": [
      "Hello Dear pooya\n"
     ]
    }
   ],
   "source": [
    "# It has specified the expected input and output\n",
    "# The intelligence of jupyter notebook works on both the input and output!\n",
    "def greeting_func(name: str) -> str:\n",
    "    return f\"Hello dear {name}\"\n",
    "output = greeting_func(\"pooya\")\n",
    "print(output)"
   ]
  },
  {
   "cell_type": "code",
   "execution_count": 7,
   "metadata": {},
   "outputs": [
    {
     "name": "stdout",
     "output_type": "stream",
     "text": [
      "pooya mohammadi\n"
     ]
    }
   ],
   "source": [
    "def full_name(first_name, last_name):\n",
    "    output = first_name + ' ' + last_name\n",
    "    return output\n",
    "\n",
    "output = full_name('pooya', 'mohammadi')\n",
    "print(output)"
   ]
  },
  {
   "cell_type": "code",
   "execution_count": null,
   "metadata": {},
   "outputs": [],
   "source": [
    "def full_name(first_name: str, last_name: str) -> str:\n",
    "    output = first_name + ' ' + last_name\n",
    "    return output\n",
    "\n",
    "output = full_name('pooya', 'mohammadi')\n",
    "print(output.)"
   ]
  },
  {
   "cell_type": "code",
   "execution_count": 2,
   "metadata": {},
   "outputs": [
    {
     "name": "stdout",
     "output_type": "stream",
     "text": [
      "Help on function full_name in module __main__:\n",
      "\n",
      "full_name(first_name: str, last_name: str) -> str\n",
      "\n"
     ]
    }
   ],
   "source": [
    "help(full_name)"
   ]
  },
  {
   "cell_type": "code",
   "execution_count": 38,
   "metadata": {},
   "outputs": [],
   "source": [
    "# Type hinting is not specific to input arguments of functions!\n",
    "from typing import Tuple\n",
    "\n",
    "int_str_tuple: Tuple[int, str] = (2, 'Pooya')\n",
    "triple_int_tuple: Tuple[int, int, int] = (5, 9, 3)\n",
    "triple_str_tuple: Tuple[str, str, str] = ('a', 'b', \"9\")\n",
    "homogeneous_int_tuple: Tuple[int, ...] = (5, 9, 3, 5) # as many int \n",
    "list_dicts: List[Dict[int, str]] = [\n",
    "    {1: 'one', 2: 'two', 3: 'three'},\n",
    "    {11: 'eleven', 12: 'twelve', 13: 'thirteen'}\n",
    "]"
   ]
  },
  {
   "cell_type": "code",
   "execution_count": 6,
   "metadata": {},
   "outputs": [
    {
     "data": {
      "text/plain": [
       "{1: 'pooya Mohammadi', 2: 'Mehdi Zamani'}"
      ]
     },
     "execution_count": 6,
     "metadata": {},
     "output_type": "execute_result"
    }
   ],
   "source": [
    "from typing import List, Dict\n",
    "def get_full_name(ids:List[int], first_names:List[str], last_names:List[str]) -> Dict[int, str]:\n",
    "    output: Dict[int, str] = dict()\n",
    "    for id_, first_name, last_name in zip(ids, first_names, last_names):\n",
    "        output[id_] = first_name + \" \" + last_name\n",
    "    return output\n",
    "get_full_name([1, 2], [\"pooya\", \"Mehdi\"], [\"Mohammadi\", \"Zamani\"])"
   ]
  },
  {
   "cell_type": "markdown",
   "metadata": {},
   "source": [
    "## Function Scope"
   ]
  },
  {
   "cell_type": "code",
   "execution_count": 1,
   "metadata": {},
   "outputs": [
    {
     "name": "stdout",
     "output_type": "stream",
     "text": [
      "30 30\n",
      "10\n"
     ]
    }
   ],
   "source": [
    "# from a function's scope one can access \n",
    "var = 10 # global variable!\n",
    "def func_(input_1):\n",
    "    var_ = var + 20 # func variable can't access it from the outer scope!\n",
    "    print(var_, input_1)\n",
    "func_(30) \n",
    "print(var)"
   ]
  },
  {
   "cell_type": "code",
   "execution_count": 2,
   "metadata": {},
   "outputs": [
    {
     "ename": "NameError",
     "evalue": "name 'var_' is not defined",
     "output_type": "error",
     "traceback": [
      "\u001b[0;31m---------------------------------------------------------------------------\u001b[0m",
      "\u001b[0;31mNameError\u001b[0m                                 Traceback (most recent call last)",
      "Input \u001b[0;32mIn [2]\u001b[0m, in \u001b[0;36m<cell line: 1>\u001b[0;34m()\u001b[0m\n\u001b[0;32m----> 1\u001b[0m \u001b[43mvar_\u001b[49m\n",
      "\u001b[0;31mNameError\u001b[0m: name 'var_' is not defined"
     ]
    }
   ],
   "source": [
    "var_"
   ]
  },
  {
   "cell_type": "code",
   "execution_count": 3,
   "metadata": {},
   "outputs": [
    {
     "name": "stdout",
     "output_type": "stream",
     "text": [
      "inner_var: 20\n",
      "outer_var: 10\n"
     ]
    }
   ],
   "source": [
    "var = 10 # global variable!\n",
    "def func_(input_1):\n",
    "    var = 20 \n",
    "    print(f\"inner_var: {var}\")\n",
    "func_(30) \n",
    "print(f\"outer_var: {var}\")"
   ]
  },
  {
   "cell_type": "code",
   "execution_count": 5,
   "metadata": {},
   "outputs": [
    {
     "name": "stdout",
     "output_type": "stream",
     "text": [
      "inner input: [0, 2]\n",
      "outer input: [0, 2]\n"
     ]
    }
   ],
   "source": [
    "# mutable variables are passed by reference!\n",
    "# They can be modified inside functions!\n",
    "\n",
    "var = [10, 2] \n",
    "def func_(input_1):\n",
    "    input_1[0] = 0\n",
    "    print(f\"inner input: {input_1}\")\n",
    "func_(var) \n",
    "print(f\"outer input: {var}\")"
   ]
  },
  {
   "cell_type": "code",
   "execution_count": 58,
   "metadata": {},
   "outputs": [
    {
     "ename": "UnboundLocalError",
     "evalue": "local variable 'c' referenced before assignment",
     "output_type": "error",
     "traceback": [
      "\u001b[1;31m---------------------------------------------------------------------------\u001b[0m",
      "\u001b[1;31mUnboundLocalError\u001b[0m                         Traceback (most recent call last)",
      "\u001b[1;32m~\\AppData\\Local\\Temp/ipykernel_6492/232401412.py\u001b[0m in \u001b[0;36m<module>\u001b[1;34m\u001b[0m\n\u001b[0;32m      5\u001b[0m     \u001b[0mprint\u001b[0m\u001b[1;33m(\u001b[0m\u001b[0mc\u001b[0m\u001b[1;33m)\u001b[0m\u001b[1;33m\u001b[0m\u001b[1;33m\u001b[0m\u001b[0m\n\u001b[0;32m      6\u001b[0m \u001b[1;33m\u001b[0m\u001b[0m\n\u001b[1;32m----> 7\u001b[1;33m \u001b[0madd\u001b[0m\u001b[1;33m(\u001b[0m\u001b[1;33m)\u001b[0m\u001b[1;33m\u001b[0m\u001b[1;33m\u001b[0m\u001b[0m\n\u001b[0m",
      "\u001b[1;32m~\\AppData\\Local\\Temp/ipykernel_6492/232401412.py\u001b[0m in \u001b[0;36madd\u001b[1;34m()\u001b[0m\n\u001b[0;32m      2\u001b[0m \u001b[1;33m\u001b[0m\u001b[0m\n\u001b[0;32m      3\u001b[0m \u001b[1;32mdef\u001b[0m \u001b[0madd\u001b[0m\u001b[1;33m(\u001b[0m\u001b[1;33m)\u001b[0m\u001b[1;33m:\u001b[0m\u001b[1;33m\u001b[0m\u001b[1;33m\u001b[0m\u001b[0m\n\u001b[1;32m----> 4\u001b[1;33m     \u001b[0mc\u001b[0m \u001b[1;33m=\u001b[0m \u001b[0mc\u001b[0m \u001b[1;33m+\u001b[0m \u001b[1;36m2\u001b[0m \u001b[1;31m# increment c by 2\u001b[0m\u001b[1;33m\u001b[0m\u001b[1;33m\u001b[0m\u001b[0m\n\u001b[0m\u001b[0;32m      5\u001b[0m     \u001b[0mprint\u001b[0m\u001b[1;33m(\u001b[0m\u001b[0mc\u001b[0m\u001b[1;33m)\u001b[0m\u001b[1;33m\u001b[0m\u001b[1;33m\u001b[0m\u001b[0m\n\u001b[0;32m      6\u001b[0m \u001b[1;33m\u001b[0m\u001b[0m\n",
      "\u001b[1;31mUnboundLocalError\u001b[0m: local variable 'c' referenced before assignment"
     ]
    }
   ],
   "source": [
    "# A common mistake! Before the process of assignment gets completed the same variable is refereced\n",
    "\n",
    "c = 1 # global variable\n",
    "    \n",
    "def add():\n",
    "    c = c + 2 # increment c by 2\n",
    "    print(c)\n",
    "\n",
    "add()"
   ]
  },
  {
   "cell_type": "code",
   "execution_count": 6,
   "metadata": {},
   "outputs": [
    {
     "name": "stdout",
     "output_type": "stream",
     "text": [
      "inner c variable: 2\n",
      "global c variable: 2\n"
     ]
    }
   ],
   "source": [
    "c = 0 # global variable\n",
    "\n",
    "def add():\n",
    "    global c # the global vairable is introduced to the function's scope!\n",
    "    c = c + 2 # while the c is being assigned with another value, it can be referenced because it's already defined in the function's scope!\n",
    "    print(\"inner c variable:\", c)\n",
    "\n",
    "add()\n",
    "print(\"global c variable:\", c)"
   ]
  },
  {
   "cell_type": "markdown",
   "metadata": {},
   "source": [
    "## Recursion\n",
    "\n",
    "    Python also accepts function recursion, which means a defined function can call itself.\n",
    "\n",
    "    Recursion is a common mathematical and programming concept. It means that a function calls itself.\n",
    "\n",
    "    This has the benefit of meaning that you can loop through data to reach a result"
   ]
  },
  {
   "cell_type": "code",
   "execution_count": 48,
   "metadata": {},
   "outputs": [
    {
     "data": {
      "text/plain": [
       "120"
      ]
     },
     "execution_count": 48,
     "metadata": {},
     "output_type": "execute_result"
    }
   ],
   "source": [
    "#Factorial function:\n",
    "\n",
    "def fuctorial(n):\n",
    "    \"\"\"\n",
    "    fuctorial(5) = 5 * fuctorial(4)\n",
    "    fuctorial(4) = 4 * fuctorial(3)\n",
    "    fuctorial(3) = 3 * fuctorial(2)\n",
    "    fuctorial(2) = 2 * fuctorial(1)\n",
    "    fuctorial(1) = 1\n",
    "    or simply: \n",
    "    fuctorial(5) = 5 * 4 * 3 * 2 * 1\n",
    "    fuctorial(5) = 120\n",
    "    \"\"\"\n",
    "    \n",
    "    if n <= 1:\n",
    "        return 1\n",
    "    else:\n",
    "        return n * fuctorial(n - 1)\n",
    "fuctorial(5)"
   ]
  },
  {
   "cell_type": "code",
   "execution_count": 66,
   "metadata": {},
   "outputs": [
    {
     "data": {
      "text/plain": [
       "21"
      ]
     },
     "execution_count": 66,
     "metadata": {},
     "output_type": "execute_result"
    }
   ],
   "source": [
    "def my_func(k: int) -> int:\n",
    "    \"\"\"\n",
    "    my_func(6) = 6 + my_func(5)\n",
    "    my_func(5) = 5 + my_func(4)\n",
    "    my_func(4) = 4 + my_func(3)\n",
    "    my_func(3) = 3 + my_func(2)\n",
    "    my_func(2) = 2 + my_func(1)\n",
    "    my_func(1) = 1 + my_func(0)\n",
    "    my_func(0) = 0\n",
    "    \n",
    "    my_func(6) = 6 + 5 + 4 + 3 + 2 + 1 + 0\n",
    "    my_func(6) = 21\n",
    "    \n",
    "    \"\"\"\n",
    "    if (k > 0):\n",
    "        result = k + my_func(k - 1)    \n",
    "    else:\n",
    "        result = 0\n",
    "    return result         \n",
    "\n",
    "my_func(6)"
   ]
  },
  {
   "cell_type": "markdown",
   "metadata": {},
   "source": [
    "## \\*args and \\**kwargs in Python\n",
    "\n",
    "### *args\n",
    "    If you do not know how many arguments will be passed into your function, add a * before the parameter name, which conventionally is called args, in the function definition.\n",
    "\n",
    "    This way the function will receive a tuple of arguments, and can access the items accordingly:"
   ]
  },
  {
   "cell_type": "code",
   "execution_count": 22,
   "metadata": {},
   "outputs": [
    {
     "name": "stdout",
     "output_type": "stream",
     "text": [
      "<class 'tuple'>\n",
      "hello\n",
      "dear\n",
      "friends\n",
      "Mehdi\n",
      "Ali\n",
      "zahra\n",
      "fereshteh\n"
     ]
    }
   ],
   "source": [
    "def func(*args): \n",
    "    print(type(args))\n",
    "    for arg in args:  \n",
    "        print(arg)\n",
    "func('hello', 'dear', 'friends', 'Mehdi', \"Ali\", 'zahra', \"fereshteh\") "
   ]
  },
  {
   "cell_type": "code",
   "execution_count": 24,
   "metadata": {},
   "outputs": [
    {
     "data": {
      "text/plain": [
       "38"
      ]
     },
     "execution_count": 24,
     "metadata": {},
     "output_type": "execute_result"
    }
   ],
   "source": [
    "def sum_(*args):\n",
    "    sum_result = 0\n",
    "    for arg in args:\n",
    "        sum_result += arg\n",
    "    return sum_result    \n",
    "sum_(0, 10, 3, 6, 9, 10)"
   ]
  },
  {
   "cell_type": "code",
   "execution_count": 25,
   "metadata": {},
   "outputs": [
    {
     "name": "stdout",
     "output_type": "stream",
     "text": [
      "First argument : Hello\n",
      "Next argument through *args : Welcome\n",
      "Next argument through *args : to\n",
      "Next argument through *args : Introducton to Python\n"
     ]
    }
   ],
   "source": [
    "# positional argument alongside *args\n",
    "def func(arg_1, *args): \n",
    "    print (\"First argument :\", arg_1) \n",
    "    for arg in args: \n",
    "        print(\"Next argument through *args :\", arg) \n",
    "func('Hello', 'Welcome', 'to', 'Introducton to Python') "
   ]
  },
  {
   "cell_type": "markdown",
   "metadata": {},
   "source": [
    "## Arbitrary Keyword Arguments, **kwargs\n",
    "\n",
    "If you do not know how many keyword arguments that will be passed into your function, add two asterisk:\n",
    "** before the parameter name in the function definition."
   ]
  },
  {
   "cell_type": "code",
   "execution_count": 27,
   "metadata": {},
   "outputs": [
    {
     "name": "stdout",
     "output_type": "stream",
     "text": [
      "first: python\n",
      "mid: programming\n",
      "last: language!\n"
     ]
    }
   ],
   "source": [
    "def func(**kwargs):  \n",
    "    for key, val in kwargs.items(): \n",
    "        print (f\"{key}: {val}\") \n",
    "func(first ='python', mid ='programming', last='language!') "
   ]
  },
  {
   "cell_type": "code",
   "execution_count": 31,
   "metadata": {},
   "outputs": [
    {
     "name": "stdout",
     "output_type": "stream",
     "text": [
      "this is second: 15\n"
     ]
    }
   ],
   "source": [
    "def func(part, **kwargs):\n",
    "    if part == 'first':\n",
    "        result = f\"this is third: {kwargs['first']}\"\n",
    "    elif part == 'second':\n",
    "        result = f\"this is second: {kwargs['second']}\"\n",
    "    elif part == 'third':\n",
    "        result = f\"this is third: {kwargs['third']}\"\n",
    "    else:\n",
    "        result = ':('\n",
    "    print(result)\n",
    "func('second', second=15, first=1, third=3)"
   ]
  },
  {
   "cell_type": "markdown",
   "metadata": {},
   "source": [
    "## arg and \\*args and \\**kwargs:"
   ]
  },
  {
   "cell_type": "code",
   "execution_count": 35,
   "metadata": {},
   "outputs": [
    {
     "name": "stdout",
     "output_type": "stream",
     "text": [
      "First argument : hi\n",
      "Next argument through *args : there\n",
      "Next argument through *args : python\n",
      "\n",
      "key-word arguments:\n",
      "name: pooya\n",
      "kidding: yeah\n"
     ]
    }
   ],
   "source": [
    "def func(arg_1, *args, **kwargs): \n",
    "    print (\"First argument :\", arg_1) \n",
    "    \n",
    "    for arg in args: \n",
    "        print(\"Next argument through *args :\", arg)\n",
    "        \n",
    "    print('\\n', 'key-word arguments:', sep=\"\")\n",
    "    \n",
    "    for key, value in kwargs.items(): \n",
    "        print (f\"{key}: {value}\") \n",
    "        \n",
    "func('hi', 'there', 'python', name='pooya', kidding='yeah')"
   ]
  },
  {
   "cell_type": "markdown",
   "metadata": {},
   "source": [
    "### Using \\*args and \\**kwargs to call a function\n",
    "Unpacking!"
   ]
  },
  {
   "cell_type": "code",
   "execution_count": 8,
   "metadata": {},
   "outputs": [
    {
     "name": "stdout",
     "output_type": "stream",
     "text": [
      "arg_1: python\n",
      "arg_2: programming\n",
      "arg_3: language\n"
     ]
    }
   ],
   "source": [
    "def func(arg_1, arg_2, arg_3): \n",
    "    print(\"arg_1:\", arg_1) \n",
    "    print(\"arg_2:\", arg_2) \n",
    "    print(\"arg_3:\", arg_3)\n",
    "\n",
    "func(\"python\", \"programming\", \"language\") "
   ]
  },
  {
   "cell_type": "code",
   "execution_count": 13,
   "metadata": {},
   "outputs": [
    {
     "name": "stdout",
     "output_type": "stream",
     "text": [
      "arg_1: python\n",
      "arg_2: programming\n",
      "arg_3: language\n"
     ]
    }
   ],
   "source": [
    "def func_2():\n",
    "    return (\"python\", \"programming\", \"language\")  \n",
    "args = func_2()\n",
    "# usual way!\n",
    "func(args[0], args[1], args[2]) "
   ]
  },
  {
   "cell_type": "code",
   "execution_count": 14,
   "metadata": {},
   "outputs": [
    {
     "name": "stdout",
     "output_type": "stream",
     "text": [
      "arg_1: python\n",
      "arg_2: programming\n",
      "arg_3: language\n"
     ]
    }
   ],
   "source": [
    "# unpacking\n",
    "func(*args)"
   ]
  },
  {
   "cell_type": "code",
   "execution_count": 19,
   "metadata": {},
   "outputs": [
    {
     "name": "stdout",
     "output_type": "stream",
     "text": [
      "arg_1: 1\n",
      "arg_2: 2\n",
      "arg_3: 3\n"
     ]
    }
   ],
   "source": [
    "func(*\"123\")"
   ]
  },
  {
   "cell_type": "code",
   "execution_count": 20,
   "metadata": {},
   "outputs": [
    {
     "name": "stdout",
     "output_type": "stream",
     "text": [
      "arg_1: python\n",
      "arg_2: programming\n",
      "arg_3: language\n"
     ]
    }
   ],
   "source": [
    "def func_3():\n",
    "    return {\"arg_1\" : \"python\", \"arg_2\" : \"programming\", \"arg_3\" : \"language\"}  \n",
    "kwargs = func_3()\n",
    "func(arg_1=kwargs['arg_1'], arg_2=kwargs['arg_2'], arg_3=kwargs['arg_3'])"
   ]
  },
  {
   "cell_type": "code",
   "execution_count": 21,
   "metadata": {},
   "outputs": [
    {
     "name": "stdout",
     "output_type": "stream",
     "text": [
      "arg_1: python\n",
      "arg_2: programming\n",
      "arg_3: language\n"
     ]
    }
   ],
   "source": [
    "func(**kwargs) "
   ]
  },
  {
   "cell_type": "markdown",
   "metadata": {},
   "source": [
    "## The pass and three dot Statement\n",
    "\n",
    "    function definitions cannot be empty, but if you for some reason have a function definition with no content, put in the ‍‍`pass` statement or `...` immediately after colon(:) to avoid getting an error, like the following example. Moreover, the output is None because no return is defnied!\n"
   ]
  },
  {
   "cell_type": "code",
   "execution_count": 51,
   "metadata": {},
   "outputs": [
    {
     "name": "stdout",
     "output_type": "stream",
     "text": [
      "result is None\n"
     ]
    }
   ],
   "source": [
    "def func():\n",
    "    pass\n",
    "output = func()\n",
    "print(f\"result is {output}\")"
   ]
  },
  {
   "cell_type": "code",
   "execution_count": 52,
   "metadata": {},
   "outputs": [
    {
     "name": "stdout",
     "output_type": "stream",
     "text": [
      "result is None\n"
     ]
    }
   ],
   "source": [
    "def func():\n",
    "    pass\n",
    "output = func()\n",
    "print(f\"result is {output}\")"
   ]
  },
  {
   "cell_type": "markdown",
   "metadata": {
    "collapsed": true
   },
   "source": [
    "*:)*"
   ]
  }
 ],
 "metadata": {
  "kernelspec": {
   "display_name": "Python 3 (ipykernel)",
   "language": "python",
   "name": "python3"
  },
  "language_info": {
   "codemirror_mode": {
    "name": "ipython",
    "version": 3
   },
   "file_extension": ".py",
   "mimetype": "text/x-python",
   "name": "python",
   "nbconvert_exporter": "python",
   "pygments_lexer": "ipython3",
   "version": "3.9.12"
  }
 },
 "nbformat": 4,
 "nbformat_minor": 2
}
