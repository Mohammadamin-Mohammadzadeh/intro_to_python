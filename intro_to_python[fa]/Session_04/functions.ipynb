{
 "cells": [
  {
   "cell_type": "markdown",
   "metadata": {},
   "source": [
    "## functions"
   ]
  },
  {
   "cell_type": "code",
   "execution_count": 1,
   "metadata": {},
   "outputs": [],
   "source": [
    "# simple function\n",
    "def get_power(num, to_power):\n",
    "    num = float(num)\n",
    "    return num ** to_power"
   ]
  },
  {
   "cell_type": "code",
   "execution_count": 2,
   "metadata": {},
   "outputs": [
    {
     "data": {
      "text/plain": [
       "1000.0"
      ]
     },
     "execution_count": 2,
     "metadata": {},
     "output_type": "execute_result"
    }
   ],
   "source": [
    "# call function\n",
    "get_power(10, 3)"
   ]
  },
  {
   "cell_type": "code",
   "execution_count": 3,
   "metadata": {},
   "outputs": [],
   "source": [
    "def no_return(statement):\n",
    "    print(statement)"
   ]
  },
  {
   "cell_type": "code",
   "execution_count": 4,
   "metadata": {},
   "outputs": [
    {
     "name": "stdout",
     "output_type": "stream",
     "text": [
      "hello_world\n"
     ]
    }
   ],
   "source": [
    "no_return('hello_world')"
   ]
  },
  {
   "cell_type": "code",
   "execution_count": 6,
   "metadata": {},
   "outputs": [
    {
     "name": "stdout",
     "output_type": "stream",
     "text": [
      "hello_world\n",
      "result is: None\n"
     ]
    }
   ],
   "source": [
    "result = no_return('hello_world')\n",
    "print('result is:', result)"
   ]
  },
  {
   "cell_type": "markdown",
   "metadata": {},
   "source": [
    "### function arguments"
   ]
  },
  {
   "cell_type": "code",
   "execution_count": 7,
   "metadata": {},
   "outputs": [],
   "source": [
    "def add(var_1, var_2):\n",
    "    print(f'var_1: {var_1}')\n",
    "    print(f'var_2: {var_2}')\n",
    "    return var_1 + var_2"
   ]
  },
  {
   "cell_type": "code",
   "execution_count": 8,
   "metadata": {},
   "outputs": [
    {
     "ename": "TypeError",
     "evalue": "add() missing 1 required positional argument: 'var_2'",
     "output_type": "error",
     "traceback": [
      "\u001b[1;31m---------------------------------------------------------------------------\u001b[0m",
      "\u001b[1;31mTypeError\u001b[0m                                 Traceback (most recent call last)",
      "\u001b[1;32m<ipython-input-8-0c31da1f1dd0>\u001b[0m in \u001b[0;36m<module>\u001b[1;34m\u001b[0m\n\u001b[1;32m----> 1\u001b[1;33m \u001b[0mvar\u001b[0m \u001b[1;33m=\u001b[0m \u001b[0madd\u001b[0m\u001b[1;33m(\u001b[0m\u001b[1;36m10\u001b[0m\u001b[1;33m)\u001b[0m\u001b[1;33m\u001b[0m\u001b[1;33m\u001b[0m\u001b[0m\n\u001b[0m\u001b[0;32m      2\u001b[0m \u001b[0mvar\u001b[0m\u001b[1;33m\u001b[0m\u001b[1;33m\u001b[0m\u001b[0m\n",
      "\u001b[1;31mTypeError\u001b[0m: add() missing 1 required positional argument: 'var_2'"
     ]
    }
   ],
   "source": [
    "var = add(10)\n",
    "var"
   ]
  },
  {
   "cell_type": "code",
   "execution_count": 10,
   "metadata": {},
   "outputs": [
    {
     "name": "stdout",
     "output_type": "stream",
     "text": [
      "var_1: 10\n",
      "var_2: 20\n"
     ]
    },
    {
     "data": {
      "text/plain": [
       "30"
      ]
     },
     "execution_count": 10,
     "metadata": {},
     "output_type": "execute_result"
    }
   ],
   "source": [
    "var = add(10, 20)\n",
    "var"
   ]
  },
  {
   "cell_type": "code",
   "execution_count": 12,
   "metadata": {},
   "outputs": [
    {
     "name": "stdout",
     "output_type": "stream",
     "text": [
      "var_1: 10\n",
      "var_2: 20\n"
     ]
    },
    {
     "data": {
      "text/plain": [
       "30"
      ]
     },
     "execution_count": 12,
     "metadata": {},
     "output_type": "execute_result"
    }
   ],
   "source": [
    "var = add(var_1=10, var_2=20)\n",
    "var"
   ]
  },
  {
   "cell_type": "code",
   "execution_count": 14,
   "metadata": {},
   "outputs": [
    {
     "name": "stdout",
     "output_type": "stream",
     "text": [
      "var_1: 10\n",
      "var_2: 20\n"
     ]
    },
    {
     "data": {
      "text/plain": [
       "30"
      ]
     },
     "execution_count": 14,
     "metadata": {},
     "output_type": "execute_result"
    }
   ],
   "source": [
    "var = add(var_2=20, var_1=10)\n",
    "var"
   ]
  },
  {
   "cell_type": "markdown",
   "metadata": {},
   "source": [
    "#### default arguments"
   ]
  },
  {
   "cell_type": "code",
   "execution_count": 15,
   "metadata": {},
   "outputs": [],
   "source": [
    "def add(var_1, var_2 = 5):\n",
    "    print(f'var_1 is {var_1}')\n",
    "    print(f'var_2 is {var_2}')\n",
    "    return var_1 + var_2"
   ]
  },
  {
   "cell_type": "code",
   "execution_count": 16,
   "metadata": {},
   "outputs": [
    {
     "name": "stdout",
     "output_type": "stream",
     "text": [
      "var_1 is 15\n",
      "var_2 is 5\n"
     ]
    },
    {
     "data": {
      "text/plain": [
       "20"
      ]
     },
     "execution_count": 16,
     "metadata": {},
     "output_type": "execute_result"
    }
   ],
   "source": [
    "add(var_1=15)"
   ]
  },
  {
   "cell_type": "code",
   "execution_count": 17,
   "metadata": {},
   "outputs": [
    {
     "name": "stdout",
     "output_type": "stream",
     "text": [
      "var_1 is 1\n",
      "var_2 is 15\n"
     ]
    },
    {
     "data": {
      "text/plain": [
       "16"
      ]
     },
     "execution_count": 17,
     "metadata": {},
     "output_type": "execute_result"
    }
   ],
   "source": [
    "add(1, 15)"
   ]
  },
  {
   "cell_type": "code",
   "execution_count": 18,
   "metadata": {},
   "outputs": [
    {
     "name": "stdout",
     "output_type": "stream",
     "text": [
      "var_1 is 5\n",
      "var_2 is 4\n"
     ]
    },
    {
     "data": {
      "text/plain": [
       "9"
      ]
     },
     "execution_count": 18,
     "metadata": {},
     "output_type": "execute_result"
    }
   ],
   "source": [
    "add(var_2=4, var_1=5)"
   ]
  },
  {
   "cell_type": "code",
   "execution_count": 22,
   "metadata": {},
   "outputs": [
    {
     "name": "stdout",
     "output_type": "stream",
     "text": [
      "10\n",
      "res:  None\n"
     ]
    }
   ],
   "source": [
    "def add(var_1, var_2=5):\n",
    "    var_3 = var_1 + var_2\n",
    "    print(var_3)\n",
    "    \n",
    "res = add(var_1=5)\n",
    "print('res: ', res)"
   ]
  },
  {
   "cell_type": "code",
   "execution_count": 23,
   "metadata": {},
   "outputs": [],
   "source": [
    "def no_name(func_, var_1):\n",
    "    func_(var_1)\n"
   ]
  },
  {
   "cell_type": "code",
   "execution_count": 24,
   "metadata": {},
   "outputs": [
    {
     "name": "stdout",
     "output_type": "stream",
     "text": [
      "15\n"
     ]
    }
   ],
   "source": [
    "no_name(add, 10)"
   ]
  },
  {
   "cell_type": "markdown",
   "metadata": {},
   "source": [
    "### Notes for scope of functions"
   ]
  },
  {
   "cell_type": "code",
   "execution_count": 26,
   "metadata": {},
   "outputs": [
    {
     "name": "stdout",
     "output_type": "stream",
     "text": [
      "30 30\n",
      "10\n"
     ]
    }
   ],
   "source": [
    "var = 10\n",
    "def func_(input_1):\n",
    "    var_ = var + 20\n",
    "    print(var_, input_1)\n",
    "func_(30) \n",
    "print(var)"
   ]
  },
  {
   "cell_type": "code",
   "execution_count": 30,
   "metadata": {},
   "outputs": [
    {
     "name": "stdout",
     "output_type": "stream",
     "text": [
      "40 30\n",
      "40\n"
     ]
    }
   ],
   "source": [
    "var = 10\n",
    "def func_(input_1):\n",
    "#     var += input_1 \n",
    "    global var\n",
    "    var = var + input_1\n",
    "    print(var, input_1)\n",
    "func_(30)\n",
    "print(var)"
   ]
  },
  {
   "cell_type": "code",
   "execution_count": 31,
   "metadata": {},
   "outputs": [
    {
     "name": "stdout",
     "output_type": "stream",
     "text": [
      "20 30\n",
      "10\n"
     ]
    }
   ],
   "source": [
    "var = 10\n",
    "def func_(input_1):\n",
    "    var = 20\n",
    "    print(var, input_1)\n",
    "func_(30) \n",
    "print(var)"
   ]
  },
  {
   "cell_type": "code",
   "execution_count": null,
   "metadata": {},
   "outputs": [],
   "source": [
    "var = [10, 2]\n",
    "def func_(input_1):\n",
    "    input_1[0] = 0\n",
    "    print(var,input_1)\n",
    "func_(var) \n",
    "print(var)"
   ]
  },
  {
   "cell_type": "markdown",
   "metadata": {},
   "source": [
    "## *args and **kwargs in Python\n",
    "\n",
    "### *args"
   ]
  },
  {
   "cell_type": "code",
   "execution_count": 34,
   "metadata": {},
   "outputs": [
    {
     "name": "stdout",
     "output_type": "stream",
     "text": [
      "<class 'tuple'>\n",
      "hello\n",
      "dear\n",
      "friends\n",
      "pooya\n",
      "menoo\n"
     ]
    }
   ],
   "source": [
    "def func(*args): \n",
    "    print(type(args))\n",
    "    for arg in args:  \n",
    "        print(arg)\n",
    "func('hello', 'dear', 'friends', 'pooya', 'menoo') "
   ]
  },
  {
   "cell_type": "code",
   "execution_count": 35,
   "metadata": {},
   "outputs": [
    {
     "name": "stdout",
     "output_type": "stream",
     "text": [
      "First argument : Hello\n",
      "Next argument through *argv : Welcome\n",
      "Next argument through *argv : to\n",
      "Next argument through *argv : python_dm\n"
     ]
    }
   ],
   "source": [
    "def func(arg_1, *args): \n",
    "    print (\"First argument :\", arg_1) \n",
    "    for arg in args: \n",
    "        print(\"Next argument through *argv :\", arg) \n",
    "func('Hello', 'Welcome', 'to', 'python_dm') "
   ]
  },
  {
   "cell_type": "code",
   "execution_count": 36,
   "metadata": {},
   "outputs": [
    {
     "name": "stdout",
     "output_type": "stream",
     "text": [
      "first == python\n",
      "mid == dm\n",
      "last == kntu\n"
     ]
    }
   ],
   "source": [
    "def func(**kwargs):  \n",
    "    for key, value in kwargs.items(): \n",
    "        print (\"%s == %s\" %(key, value)) \n",
    "func(first ='python', mid ='dm', last='kntu') "
   ]
  },
  {
   "cell_type": "code",
   "execution_count": 39,
   "metadata": {},
   "outputs": [
    {
     "name": "stdout",
     "output_type": "stream",
     "text": [
      "15\n"
     ]
    }
   ],
   "source": [
    "def func(part, **kwargs):\n",
    "    if part == 'first':\n",
    "        result = kwargs['first']\n",
    "    elif part == 'second':\n",
    "        result = kwargs['second']\n",
    "    elif part == 'third':\n",
    "        result = kwargs['third']\n",
    "    else:\n",
    "        result = ':('\n",
    "    print(result)\n",
    "func('second', second=15)"
   ]
  },
  {
   "cell_type": "code",
   "execution_count": 40,
   "metadata": {},
   "outputs": [
    {
     "name": "stdout",
     "output_type": "stream",
     "text": [
      "First argument : hi\n",
      "Next argument through *argv : there\n",
      "Next argument through *argv : python\n",
      "\n",
      " Kwarg arguments:\n",
      "name == pooya\n",
      "kidding == yeah\n"
     ]
    }
   ],
   "source": [
    "def func(arg_1, *args, **kwargs): \n",
    "    print (\"First argument :\", arg_1) \n",
    "    for arg in args: \n",
    "        print(\"Next argument through *argv :\", arg)\n",
    "    print('\\n', 'Kwarg arguments:')\n",
    "    for key, value in kwargs.items(): \n",
    "        print (\"%s == %s\" %(key, value)) \n",
    "func('hi', 'there', 'python', name='pooya', kidding='yeah')"
   ]
  },
  {
   "cell_type": "markdown",
   "metadata": {},
   "source": [
    "### Using *args and **kwargs to call a function"
   ]
  },
  {
   "cell_type": "code",
   "execution_count": null,
   "metadata": {},
   "outputs": [],
   "source": [
    "def func(arg_1, arg_2, arg_3): \n",
    "    print(\"arg_1:\", arg_1) \n",
    "    print(\"arg_2:\", arg_2) \n",
    "    print(\"arg_3:\", arg_3)"
   ]
  },
  {
   "cell_type": "code",
   "execution_count": 41,
   "metadata": {},
   "outputs": [
    {
     "name": "stdout",
     "output_type": "stream",
     "text": [
      "First argument : python\n",
      "Next argument through *argv : dm\n",
      "Next argument through *argv : kntu\n",
      "\n",
      " Kwarg arguments:\n"
     ]
    }
   ],
   "source": [
    "args = [\"python\", \"dm\", \"kntu\"]\n",
    "\n",
    "# func(args[0],args[1], args[2])\n",
    "func(*args) "
   ]
  },
  {
   "cell_type": "code",
   "execution_count": 42,
   "metadata": {},
   "outputs": [
    {
     "name": "stdout",
     "output_type": "stream",
     "text": [
      "First argument : python\n",
      "\n",
      " Kwarg arguments:\n",
      "arg_2 == dm\n",
      "arg_3 == kntu\n"
     ]
    }
   ],
   "source": [
    "kwargs = {\"arg_1\" : \"python\", \"arg_2\" : \"dm\", \"arg_3\" : \"kntu\"} \n",
    "func(**kwargs) "
   ]
  },
  {
   "cell_type": "code",
   "execution_count": 46,
   "metadata": {},
   "outputs": [
    {
     "data": {
      "text/plain": [
       "[4, 5, 1, 2, 3, 5, 6]"
      ]
     },
     "execution_count": 46,
     "metadata": {},
     "output_type": "execute_result"
    }
   ],
   "source": [
    "a = [1, 2, 3]\n",
    "[4, 5, *a, 5, 6]"
   ]
  },
  {
   "cell_type": "markdown",
   "metadata": {},
   "source": [
    "### doc string"
   ]
  },
  {
   "cell_type": "code",
   "execution_count": 54,
   "metadata": {},
   "outputs": [],
   "source": [
    "def get_power(num:float, to_power:int):\n",
    "    \"\"\" (float, int) -> float\n",
    "    Return the exponentioal power of the number\n",
    "    \n",
    "    >>> get_power(1, 10)\n",
    "    1\n",
    "    >>> get_power(2.0, 3)\n",
    "    8.0\n",
    "    \"\"\"\n",
    "    num = float(num)\n",
    "    return num ** to_power"
   ]
  },
  {
   "cell_type": "code",
   "execution_count": 48,
   "metadata": {},
   "outputs": [
    {
     "name": "stdout",
     "output_type": "stream",
     "text": [
      "Help on function get_power in module __main__:\n",
      "\n",
      "get_power(num, to_power)\n",
      "    (float, int) -> float\n",
      "    Return the exponentioal power of the number\n",
      "    \n",
      "    >>> get_power(1, 10)\n",
      "    1\n",
      "    >>> get_power(2.0, 3)\n",
      "    8.0\n",
      "\n"
     ]
    }
   ],
   "source": [
    "help(get_power)"
   ]
  },
  {
   "cell_type": "code",
   "execution_count": 52,
   "metadata": {},
   "outputs": [],
   "source": [
    "def get_square_tuple(_tuple):\n",
    "    \"\"\" (tuple) -> tuple\n",
    "    Returns square tuple \n",
    "    \n",
    "    >>> get_square_tuple((1, 2, 3, 5))\n",
    "    (1, 4, 9, 25)\n",
    "    \"\"\"\n",
    "    res = tuple()\n",
    "    for t in _tuple:\n",
    "        res = res + (t**2,)\n",
    "    return res"
   ]
  },
  {
   "cell_type": "code",
   "execution_count": 55,
   "metadata": {},
   "outputs": [
    {
     "name": "stdout",
     "output_type": "stream",
     "text": [
      "**********************************************************************\n",
      "File \"__main__\", line 5, in __main__.get_power\n",
      "Failed example:\n",
      "    get_power(1, 10)\n",
      "Expected:\n",
      "    1\n",
      "Got:\n",
      "    1.0\n",
      "**********************************************************************\n",
      "1 items had failures:\n",
      "   1 of   2 in __main__.get_power\n",
      "***Test Failed*** 1 failures.\n"
     ]
    },
    {
     "data": {
      "text/plain": [
       "TestResults(failed=1, attempted=3)"
      ]
     },
     "execution_count": 55,
     "metadata": {},
     "output_type": "execute_result"
    }
   ],
   "source": [
    "import doctest\n",
    "doctest.testmod()"
   ]
  },
  {
   "cell_type": "code",
   "execution_count": 56,
   "metadata": {},
   "outputs": [
    {
     "name": "stdout",
     "output_type": "stream",
     "text": [
      "Help on function get_square_tuple in module __main__:\n",
      "\n",
      "get_square_tuple(_tuple)\n",
      "    (tuple) -> tuple\n",
      "    Returns square tuple \n",
      "    \n",
      "    >>> get_square_tuple((1, 2, 3, 5))\n",
      "    (1, 4, 9, 25)\n",
      "\n"
     ]
    }
   ],
   "source": [
    "help(get_square_tuple)"
   ]
  },
  {
   "cell_type": "markdown",
   "metadata": {
    "collapsed": true
   },
   "source": [
    "*:)*"
   ]
  }
 ],
 "metadata": {
  "kernelspec": {
   "display_name": "Python 3",
   "language": "python",
   "name": "python3"
  },
  "language_info": {
   "codemirror_mode": {
    "name": "ipython",
    "version": 3
   },
   "file_extension": ".py",
   "mimetype": "text/x-python",
   "name": "python",
   "nbconvert_exporter": "python",
   "pygments_lexer": "ipython3",
   "version": "3.7.4"
  }
 },
 "nbformat": 4,
 "nbformat_minor": 2
}
