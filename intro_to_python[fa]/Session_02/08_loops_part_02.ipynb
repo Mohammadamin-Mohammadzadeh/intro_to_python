{
 "cells": [
  {
   "cell_type": "markdown",
   "metadata": {},
   "source": [
    "### Loops on dictionaries"
   ]
  },
  {
   "cell_type": "code",
   "execution_count": 13,
   "metadata": {},
   "outputs": [],
   "source": [
    "capitals = {'Iran': 'Tehran','France': 'Paris','Italy': 'Rome','i':'Rome'}"
   ]
  },
  {
   "cell_type": "code",
   "execution_count": 2,
   "metadata": {},
   "outputs": [
    {
     "name": "stdout",
     "output_type": "stream",
     "text": [
      "Iran Tehran\n",
      "France Paris\n",
      "Italy Rome\n"
     ]
    }
   ],
   "source": [
    "for key in capitals:\n",
    "    print(key, capitals[key])"
   ]
  },
  {
   "cell_type": "code",
   "execution_count": 4,
   "metadata": {},
   "outputs": [
    {
     "name": "stdout",
     "output_type": "stream",
     "text": [
      "Iran\n",
      "France\n",
      "Italy\n"
     ]
    }
   ],
   "source": [
    "for key in capitals.keys(): # recommended\n",
    "    print(key)"
   ]
  },
  {
   "cell_type": "code",
   "execution_count": 5,
   "metadata": {},
   "outputs": [
    {
     "name": "stdout",
     "output_type": "stream",
     "text": [
      "Tehran\n",
      "Paris\n",
      "Rome\n"
     ]
    }
   ],
   "source": [
    "for value in capitals.values():\n",
    "    print(value)"
   ]
  },
  {
   "cell_type": "code",
   "execution_count": 6,
   "metadata": {},
   "outputs": [
    {
     "data": {
      "text/plain": [
       "dict_items([('Iran', 'Tehran'), ('France', 'Paris'), ('Italy', 'Rome')])"
      ]
     },
     "execution_count": 6,
     "metadata": {},
     "output_type": "execute_result"
    }
   ],
   "source": [
    "capitals.items()"
   ]
  },
  {
   "cell_type": "code",
   "execution_count": 8,
   "metadata": {},
   "outputs": [
    {
     "name": "stdout",
     "output_type": "stream",
     "text": [
      "('Iran', 'Tehran')\n",
      "('France', 'Paris')\n",
      "('Italy', 'Rome')\n"
     ]
    }
   ],
   "source": [
    "for item in capitals.items():\n",
    "    print(item)"
   ]
  },
  {
   "cell_type": "code",
   "execution_count": 9,
   "metadata": {},
   "outputs": [
    {
     "name": "stdout",
     "output_type": "stream",
     "text": [
      "Iran Tehran\n",
      "France Paris\n",
      "Italy Rome\n"
     ]
    }
   ],
   "source": [
    "for k, v in capitals.items():\n",
    "    print(k, v)"
   ]
  },
  {
   "cell_type": "code",
   "execution_count": 10,
   "metadata": {},
   "outputs": [],
   "source": [
    "# create a new dictionary like capitals which the keys and values are replaced"
   ]
  },
  {
   "cell_type": "code",
   "execution_count": 14,
   "metadata": {},
   "outputs": [
    {
     "data": {
      "text/plain": [
       "{'Tehran': 'Iran', 'Paris': 'France', 'Rome': 'i'}"
      ]
     },
     "execution_count": 14,
     "metadata": {},
     "output_type": "execute_result"
    }
   ],
   "source": [
    "reversed_capitals = dict()\n",
    "for k, v in capitals.items():\n",
    "    reversed_capitals[v] = k \n",
    "reversed_capitals"
   ]
  },
  {
   "cell_type": "markdown",
   "metadata": {},
   "source": [
    "## Enumerate\n",
    "### challenge for dictionary using enumerate"
   ]
  },
  {
   "cell_type": "code",
   "execution_count": null,
   "metadata": {},
   "outputs": [],
   "source": [
    "# print all elements in capitals except the one which comes first"
   ]
  },
  {
   "cell_type": "code",
   "execution_count": 15,
   "metadata": {},
   "outputs": [
    {
     "name": "stdout",
     "output_type": "stream",
     "text": [
      "France Paris\n",
      "Italy Rome\n",
      "i Rome\n"
     ]
    }
   ],
   "source": [
    "i=0\n",
    "for key,value in capitals.items():\n",
    "    if i == 0:\n",
    "        i+=1\n",
    "        continue\n",
    "    i+=1\n",
    "    print(key,value)"
   ]
  },
  {
   "cell_type": "code",
   "execution_count": 16,
   "metadata": {},
   "outputs": [
    {
     "name": "stdout",
     "output_type": "stream",
     "text": [
      "0 >>> 1\n",
      "1 >>> a\n",
      "2 >>> 5\n"
     ]
    }
   ],
   "source": [
    "lst_ = [1,'a', 5]\n",
    "for en, s in enumerate(lst_):\n",
    "    print(en,'>>>',s)"
   ]
  },
  {
   "cell_type": "code",
   "execution_count": 18,
   "metadata": {},
   "outputs": [
    {
     "name": "stdout",
     "output_type": "stream",
     "text": [
      "3 >>> 1\n",
      "4 >>> a\n",
      "5 >>> 5\n"
     ]
    }
   ],
   "source": [
    "lst_ = [1,'a', 5]\n",
    "for en, s in enumerate(lst_,3):\n",
    "    print(en,'>>>',s)"
   ]
  },
  {
   "cell_type": "code",
   "execution_count": 24,
   "metadata": {},
   "outputs": [
    {
     "name": "stdout",
     "output_type": "stream",
     "text": [
      "1 France Paris\n",
      "2 Italy Rome\n",
      "3 i Rome\n"
     ]
    }
   ],
   "source": [
    "for en, (key, value) in enumerate(capitals.items()):\n",
    "    if en == 0:\n",
    "        continue\n",
    "    print(en,key,value)"
   ]
  },
  {
   "cell_type": "markdown",
   "metadata": {},
   "source": [
    "### Zip"
   ]
  },
  {
   "cell_type": "code",
   "execution_count": 26,
   "metadata": {},
   "outputs": [
    {
     "data": {
      "text/plain": [
       "[6, 8, 10, 12]"
      ]
     },
     "execution_count": 26,
     "metadata": {},
     "output_type": "execute_result"
    }
   ],
   "source": [
    "lst_1 = [1, 2, 3, 4]\n",
    "lst_2 = [5, 6, 7, 8]\n",
    "\n",
    "lst = []\n",
    "for l_1, l_2 in zip(lst_1, lst_2):\n",
    "    lst.append(l_1 + l_2)\n",
    "lst"
   ]
  },
  {
   "cell_type": "markdown",
   "metadata": {},
   "source": [
    "*:)*"
   ]
  }
 ],
 "metadata": {
  "kernelspec": {
   "display_name": "Python 3",
   "language": "python",
   "name": "python3"
  },
  "language_info": {
   "codemirror_mode": {
    "name": "ipython",
    "version": 3
   },
   "file_extension": ".py",
   "mimetype": "text/x-python",
   "name": "python",
   "nbconvert_exporter": "python",
   "pygments_lexer": "ipython3",
   "version": "3.7.4"
  }
 },
 "nbformat": 4,
 "nbformat_minor": 2
}
