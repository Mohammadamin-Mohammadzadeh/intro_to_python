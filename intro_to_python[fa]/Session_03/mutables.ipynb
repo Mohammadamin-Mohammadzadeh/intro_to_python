{
 "cells": [
  {
   "cell_type": "markdown",
   "metadata": {},
   "source": [
    "#### Lists, dictionaries and sets are mutable"
   ]
  },
  {
   "cell_type": "code",
   "execution_count": null,
   "metadata": {},
   "outputs": [],
   "source": [
    "var = [10,2]\n",
    "def func_(input_1):\n",
    "    input_1[0] = 0\n",
    "    print(var,input_1)\n",
    "func_(var.copy()) \n",
    "print(var)"
   ]
  },
  {
   "cell_type": "code",
   "execution_count": null,
   "metadata": {},
   "outputs": [],
   "source": [
    "a = [[1,2],[4,5]]\n",
    "b = a.copy()\n",
    "b[0][0] = 0\n",
    "a"
   ]
  },
  {
   "cell_type": "code",
   "execution_count": null,
   "metadata": {},
   "outputs": [],
   "source": [
    "b"
   ]
  },
  {
   "cell_type": "markdown",
   "metadata": {},
   "source": [
    "### Notes on operations\n",
    "The == operator compares the values of both the operands and checks for value equality. Whereas __is__ operator checks whether both the operands refer to the same object or not."
   ]
  },
  {
   "cell_type": "code",
   "execution_count": null,
   "metadata": {},
   "outputs": [],
   "source": [
    "set_1 = {\"Pooya\"}\n",
    "set_2 = {\"Pooya\"}\n",
    "print(set_1 == set_2)\n",
    "print(set_1 is set_2)\n",
    "print('set_1 id {}'.format(id(set_1)))\n",
    "print('set_2 id {}'.format(id(set_2)))"
   ]
  },
  {
   "cell_type": "code",
   "execution_count": null,
   "metadata": {},
   "outputs": [],
   "source": [
    "lst_1 = [1, 2, 3]"
   ]
  },
  {
   "cell_type": "code",
   "execution_count": null,
   "metadata": {},
   "outputs": [],
   "source": [
    "lst_2 = lst_1"
   ]
  },
  {
   "cell_type": "code",
   "execution_count": null,
   "metadata": {},
   "outputs": [],
   "source": [
    "print(lst_1 == lst_2)\n",
    "print(lst_1 is lst_2)\n",
    "print('lst_1 id {}'.format(id(lst_1)))\n",
    "print('lst_2 id {}'.format(id(lst_2)))"
   ]
  },
  {
   "cell_type": "code",
   "execution_count": null,
   "metadata": {},
   "outputs": [],
   "source": [
    "lst_1[1] = 1000\n",
    "print(lst_1 == lst_2)\n",
    "print(lst_1 is lst_2)\n",
    "print('lst_1 id {}'.format(id(lst_1)))\n",
    "print('lst_2 id {}'.format(id(lst_2)))"
   ]
  },
  {
   "cell_type": "code",
   "execution_count": null,
   "metadata": {},
   "outputs": [],
   "source": []
  }
 ],
 "metadata": {
  "kernelspec": {
   "display_name": "Python 3",
   "language": "python",
   "name": "python3"
  },
  "language_info": {
   "codemirror_mode": {
    "name": "ipython",
    "version": 3
   },
   "file_extension": ".py",
   "mimetype": "text/x-python",
   "name": "python",
   "nbconvert_exporter": "python",
   "pygments_lexer": "ipython3",
   "version": "3.7.4"
  }
 },
 "nbformat": 4,
 "nbformat_minor": 2
}
