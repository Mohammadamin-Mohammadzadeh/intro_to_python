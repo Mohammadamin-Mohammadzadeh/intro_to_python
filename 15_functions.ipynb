{
 "cells": [
  {
   "cell_type": "markdown",
   "metadata": {},
   "source": [
    "# Functions\n",
    "    1. Creating a Function\n",
    "    2. Calling a Function\n",
    "    3. Docstring\n",
    "    4. Type Hint\n",
    "    5. functions' arguments & Default Parameter Value\n",
    "    6. Global\n",
    "    7. Passing a List as an Argument\n",
    "    8. Recursion\n",
    "    9. *args\n",
    "    10. **kwargs\n",
    "    11. pass Statement"
   ]
  },
  {
   "cell_type": "markdown",
   "metadata": {},
   "source": [
    "A function is a block of code which only runs when it is called.\n",
    "\n",
    "You can pass data, known as parameters or input arguments, into a function.\n",
    "\n",
    "A function can return data or None as a result. \n",
    "\n",
    "The result/output of a function is mainly assigned to a variable ...\n"
   ]
  },
  {
   "cell_type": "markdown",
   "metadata": {},
   "source": [
    "## Creating a Function\n",
    "\n",
    "In Python a function is defined using the ‍‍‍`def` keyword:"
   ]
  },
  {
   "cell_type": "code",
   "execution_count": 5,
   "metadata": {},
   "outputs": [],
   "source": [
    "#it has no input argument and has an output\n",
    "def return_func():\n",
    "    return 'hello world'"
   ]
  },
  {
   "cell_type": "markdown",
   "metadata": {},
   "source": [
    "## Calling a Function\n",
    "\n",
    "To call a function, use the function name followed by parenthesis:"
   ]
  },
  {
   "cell_type": "code",
   "execution_count": 6,
   "metadata": {},
   "outputs": [
    {
     "data": {
      "text/plain": [
       "'hello world'"
      ]
     },
     "execution_count": 6,
     "metadata": {},
     "output_type": "execute_result"
    }
   ],
   "source": [
    "# calling a function\n",
    "return_func()"
   ]
  },
  {
   "cell_type": "code",
   "execution_count": 7,
   "metadata": {},
   "outputs": [],
   "source": [
    "# a function may have no outputs\n",
    "# In this case, by default it returns None as its output!\n",
    "def no_return_func():\n",
    "    print('hello world')"
   ]
  },
  {
   "cell_type": "code",
   "execution_count": 8,
   "metadata": {},
   "outputs": [
    {
     "name": "stdout",
     "output_type": "stream",
     "text": [
      "hello world\n"
     ]
    }
   ],
   "source": [
    "# call function\n",
    "no_return_func()"
   ]
  },
  {
   "cell_type": "code",
   "execution_count": 9,
   "metadata": {},
   "outputs": [
    {
     "name": "stdout",
     "output_type": "stream",
     "text": [
      "hello world\n",
      "result is: None\n"
     ]
    }
   ],
   "source": [
    "# let's check the return of no_return_func\n",
    "result = no_return_func()\n",
    "print('result is:', result)"
   ]
  },
  {
   "cell_type": "code",
   "execution_count": 10,
   "metadata": {},
   "outputs": [
    {
     "name": "stdout",
     "output_type": "stream",
     "text": [
      "result is: hello world\n"
     ]
    }
   ],
   "source": [
    "# To campare let's check the result of return_func\n",
    "result = return_func()\n",
    "print('result is:', result)"
   ]
  },
  {
   "cell_type": "code",
   "execution_count": 11,
   "metadata": {},
   "outputs": [],
   "source": [
    "# a simple function with two parameters\n",
    "def get_power(num, to_power):\n",
    "    return num ** to_power"
   ]
  },
  {
   "cell_type": "code",
   "execution_count": 13,
   "metadata": {},
   "outputs": [
    {
     "name": "stdout",
     "output_type": "stream",
     "text": [
      "result is: 1000\n"
     ]
    }
   ],
   "source": [
    "# call function\n",
    "powered_number = get_power(10, 3)\n",
    "print('result is:', powered_number)"
   ]
  },
  {
   "cell_type": "markdown",
   "metadata": {},
   "source": [
    "## Function Arguments"
   ]
  },
  {
   "cell_type": "markdown",
   "metadata": {},
   "source": [
    "Information can be passed into functions as arguments.\n",
    "\n",
    "Arguments are specified after the function name, inside the parentheses.\n",
    "You can add as many arguments as you want, just separate them with a comma."
   ]
  },
  {
   "cell_type": "markdown",
   "metadata": {},
   "source": [
    "### If you try to call the function with 1 or 3 arguments, you will get an error:"
   ]
  },
  {
   "cell_type": "code",
   "execution_count": 13,
   "metadata": {},
   "outputs": [
    {
     "ename": "TypeError",
     "evalue": "my_function() missing 1 required positional argument: 'l_name'",
     "output_type": "error",
     "traceback": [
      "\u001b[1;31m---------------------------------------------------------------------------\u001b[0m",
      "\u001b[1;31mTypeError\u001b[0m                                 Traceback (most recent call last)",
      "\u001b[1;32m~\\AppData\\Local\\Temp/ipykernel_6492/2986482166.py\u001b[0m in \u001b[0;36m<module>\u001b[1;34m\u001b[0m\n\u001b[0;32m      2\u001b[0m     \u001b[0mprint\u001b[0m\u001b[1;33m(\u001b[0m\u001b[0mf_name\u001b[0m \u001b[1;33m+\u001b[0m \u001b[1;34m\" \"\u001b[0m \u001b[1;33m+\u001b[0m \u001b[0ml_name\u001b[0m\u001b[1;33m)\u001b[0m\u001b[1;33m\u001b[0m\u001b[1;33m\u001b[0m\u001b[0m\n\u001b[0;32m      3\u001b[0m \u001b[1;33m\u001b[0m\u001b[0m\n\u001b[1;32m----> 4\u001b[1;33m \u001b[0mmy_function\u001b[0m\u001b[1;33m(\u001b[0m\u001b[1;34m'pooya'\u001b[0m\u001b[1;33m)\u001b[0m\u001b[1;33m\u001b[0m\u001b[1;33m\u001b[0m\u001b[0m\n\u001b[0m",
      "\u001b[1;31mTypeError\u001b[0m: my_function() missing 1 required positional argument: 'l_name'"
     ]
    }
   ],
   "source": [
    "def my_function(f_name, l_name):\n",
    "    print(f_name + \" \" + l_name)\n",
    "\n",
    "my_function('pooya') "
   ]
  },
  {
   "cell_type": "code",
   "execution_count": 27,
   "metadata": {},
   "outputs": [],
   "source": [
    "def add(var_1, var_2):\n",
    "    print(f'var_1: {var_1}')\n",
    "    print(f'var_2: {var_2}')\n",
    "    return var_1 + var_2"
   ]
  },
  {
   "cell_type": "code",
   "execution_count": 28,
   "metadata": {},
   "outputs": [
    {
     "ename": "TypeError",
     "evalue": "add() missing 1 required positional argument: 'var_2'",
     "output_type": "error",
     "traceback": [
      "\u001b[1;31m---------------------------------------------------------------------------\u001b[0m",
      "\u001b[1;31mTypeError\u001b[0m                                 Traceback (most recent call last)",
      "\u001b[1;32m~\\AppData\\Local\\Temp/ipykernel_4528/1112974983.py\u001b[0m in \u001b[0;36m<module>\u001b[1;34m\u001b[0m\n\u001b[1;32m----> 1\u001b[1;33m \u001b[0mvar\u001b[0m \u001b[1;33m=\u001b[0m \u001b[0madd\u001b[0m\u001b[1;33m(\u001b[0m\u001b[1;36m10\u001b[0m\u001b[1;33m)\u001b[0m\u001b[1;33m\u001b[0m\u001b[1;33m\u001b[0m\u001b[0m\n\u001b[0m\u001b[0;32m      2\u001b[0m \u001b[0mvar\u001b[0m\u001b[1;33m\u001b[0m\u001b[1;33m\u001b[0m\u001b[0m\n",
      "\u001b[1;31mTypeError\u001b[0m: add() missing 1 required positional argument: 'var_2'"
     ]
    }
   ],
   "source": [
    "var = add(10)\n",
    "var"
   ]
  },
  {
   "cell_type": "code",
   "execution_count": 29,
   "metadata": {},
   "outputs": [
    {
     "name": "stdout",
     "output_type": "stream",
     "text": [
      "var_1: 10\n",
      "var_2: 20\n"
     ]
    },
    {
     "data": {
      "text/plain": [
       "30"
      ]
     },
     "execution_count": 29,
     "metadata": {},
     "output_type": "execute_result"
    }
   ],
   "source": [
    "var = add(10, 20)\n",
    "var"
   ]
  },
  {
   "cell_type": "code",
   "execution_count": 30,
   "metadata": {},
   "outputs": [
    {
     "name": "stdout",
     "output_type": "stream",
     "text": [
      "var_1: 10\n",
      "var_2: 20\n"
     ]
    },
    {
     "data": {
      "text/plain": [
       "30"
      ]
     },
     "execution_count": 30,
     "metadata": {},
     "output_type": "execute_result"
    }
   ],
   "source": [
    "var = add(var_1=10, var_2=20)\n",
    "var"
   ]
  },
  {
   "cell_type": "code",
   "execution_count": 31,
   "metadata": {},
   "outputs": [
    {
     "name": "stdout",
     "output_type": "stream",
     "text": [
      "var_1: 10\n",
      "var_2: 20\n"
     ]
    },
    {
     "data": {
      "text/plain": [
       "30"
      ]
     },
     "execution_count": 31,
     "metadata": {},
     "output_type": "execute_result"
    }
   ],
   "source": [
    "var = add(var_2=20, var_1=10)\n",
    "var"
   ]
  },
  {
   "cell_type": "markdown",
   "metadata": {},
   "source": [
    "\n",
    "### Default Parameter Value\n",
    "\n",
    "The following example shows how to use a default parameter value.\n",
    "\n",
    "If we call the function without argument, it uses the default value:"
   ]
  },
  {
   "cell_type": "code",
   "execution_count": 32,
   "metadata": {},
   "outputs": [],
   "source": [
    "def add(var_1, var_2 = 5):\n",
    "    \"\"\"In this function var_2 is default parameter\"\"\"\n",
    "    \n",
    "    print(f'var_1 is {var_1}')\n",
    "    print(f'var_2 is {var_2}')\n",
    "    return var_1 + var_2"
   ]
  },
  {
   "cell_type": "code",
   "execution_count": 33,
   "metadata": {},
   "outputs": [
    {
     "name": "stdout",
     "output_type": "stream",
     "text": [
      "var_1 is 15\n",
      "var_2 is 5\n"
     ]
    },
    {
     "data": {
      "text/plain": [
       "20"
      ]
     },
     "execution_count": 33,
     "metadata": {},
     "output_type": "execute_result"
    }
   ],
   "source": [
    "# because var_2 is default parameter, one input is sufficient\n",
    "\n",
    "add(var_1=15)"
   ]
  },
  {
   "cell_type": "code",
   "execution_count": 34,
   "metadata": {},
   "outputs": [
    {
     "name": "stdout",
     "output_type": "stream",
     "text": [
      "var_1 is 1\n",
      "var_2 is 15\n"
     ]
    },
    {
     "data": {
      "text/plain": [
       "16"
      ]
     },
     "execution_count": 34,
     "metadata": {},
     "output_type": "execute_result"
    }
   ],
   "source": [
    "# can default be changed\n",
    "\n",
    "add(1, 15)"
   ]
  },
  {
   "cell_type": "code",
   "execution_count": 35,
   "metadata": {},
   "outputs": [
    {
     "name": "stdout",
     "output_type": "stream",
     "text": [
      "var_1 is 5\n",
      "var_2 is 4\n"
     ]
    },
    {
     "data": {
      "text/plain": [
       "9"
      ]
     },
     "execution_count": 35,
     "metadata": {},
     "output_type": "execute_result"
    }
   ],
   "source": [
    "add(var_2=4, var_1=5)"
   ]
  },
  {
   "cell_type": "code",
   "execution_count": 36,
   "metadata": {},
   "outputs": [
    {
     "name": "stdout",
     "output_type": "stream",
     "text": [
      "res:  None\n"
     ]
    }
   ],
   "source": [
    "# this function no return\n",
    "\n",
    "def add(var_1, var_2=5):\n",
    "    var_3 = var_1 + var_2\n",
    "    \n",
    "res = add(var_1=5)\n",
    "print('res: ', res)"
   ]
  },
  {
   "cell_type": "markdown",
   "metadata": {},
   "source": [
    "### Another example:"
   ]
  },
  {
   "cell_type": "code",
   "execution_count": 37,
   "metadata": {},
   "outputs": [
    {
     "name": "stdout",
     "output_type": "stream",
     "text": [
      "I am from Sweden\n",
      "I am from India\n",
      "I am from Norway\n",
      "I am from Brazil\n"
     ]
    }
   ],
   "source": [
    "def my_function(country = \"Norway\"):\n",
    "    print(\"I am from \" + country)\n",
    "\n",
    "my_function(\"Sweden\")\n",
    "my_function(\"India\")\n",
    "my_function()\n",
    "my_function(\"Brazil\") "
   ]
  },
  {
   "cell_type": "markdown",
   "metadata": {},
   "source": [
    "## Docstring\n",
    "docstrings provide neccessary information about the function, in which they have defined, so users would have a clear and concise understanding of how the function works, what the input parameters should be, what would be outputs, and sometimes they may contain tests to further illusterate the functionalities offered by the function."
   ]
  },
  {
   "cell_type": "code",
   "execution_count": 16,
   "metadata": {},
   "outputs": [],
   "source": [
    "# a simple function with two parameters\n",
    "def get_power(num, to_power):\n",
    "    \"\"\"\n",
    "    This function raises any number to the power of another number\n",
    "    :param num: the base number\n",
    "    :param to_power: the base number will be raised to the power of this input/to_power.  \n",
    "    :return: return the num to the power of to_power\n",
    "    \"\"\"\n",
    "    return num ** to_power"
   ]
  },
  {
   "cell_type": "code",
   "execution_count": 17,
   "metadata": {},
   "outputs": [
    {
     "name": "stdout",
     "output_type": "stream",
     "text": [
      "Help on function get_power in module __main__:\n",
      "\n",
      "get_power(num, to_power)\n",
      "    This function raises any number to the power of another number\n",
      "    :param num: the base number\n",
      "    :param to_power: the base number will be raised to the power of this input/to_power.  \n",
      "    :return: return the num to the power of to_power\n",
      "\n"
     ]
    }
   ],
   "source": [
    "# recommended way\n",
    "help(get_power)"
   ]
  },
  {
   "cell_type": "code",
   "execution_count": 19,
   "metadata": {},
   "outputs": [
    {
     "name": "stdout",
     "output_type": "stream",
     "text": [
      "\n",
      "    This function raises any number to the power of another number\n",
      "    :param num: the base number\n",
      "    :param to_power: the base number will be raised to the power of this input/to_power.  \n",
      "    :return: return the num to the power of to_power\n",
      "    \n"
     ]
    }
   ],
   "source": [
    "# using special methods | not recommended\n",
    "print(get_power.__doc__)"
   ]
  },
  {
   "cell_type": "code",
   "execution_count": 20,
   "metadata": {},
   "outputs": [],
   "source": [
    "# different type of docstrings\n",
    "def get_power(num, to_power):\n",
    "    \"\"\" (float, int) -> float\n",
    "    Return the exponentioal power of the num\n",
    "    \n",
    "    >>> get_power(1, 10)\n",
    "    1\n",
    "    >>> get_power(2.0, 3)\n",
    "    8.0\n",
    "    \"\"\"\n",
    "    num = float(num)\n",
    "    return num ** to_power"
   ]
  },
  {
   "cell_type": "code",
   "execution_count": 22,
   "metadata": {},
   "outputs": [
    {
     "name": "stdout",
     "output_type": "stream",
     "text": [
      "Trying:\n",
      "    get_power(1, 10)\n",
      "Expecting:\n",
      "    1\n",
      "**********************************************************************\n",
      "File \"__main__\", line 6, in __main__.get_power\n",
      "Failed example:\n",
      "    get_power(1, 10)\n",
      "Expected:\n",
      "    1\n",
      "Got:\n",
      "    1.0\n",
      "Trying:\n",
      "    get_power(2.0, 3)\n",
      "Expecting:\n",
      "    8.0\n",
      "ok\n",
      "3 items had no tests:\n",
      "    __main__\n",
      "    __main__.no_return_func\n",
      "    __main__.return_func\n",
      "**********************************************************************\n",
      "1 items had failures:\n",
      "   1 of   2 in __main__.get_power\n",
      "2 tests in 4 items.\n",
      "1 passed and 1 failed.\n",
      "***Test Failed*** 1 failures.\n"
     ]
    },
    {
     "data": {
      "text/plain": [
       "TestResults(failed=1, attempted=2)"
      ]
     },
     "execution_count": 22,
     "metadata": {},
     "output_type": "execute_result"
    }
   ],
   "source": [
    "# To validate tests in docstrings\n",
    "import doctest\n",
    "doctest.testmod(verbose=True)"
   ]
  },
  {
   "cell_type": "markdown",
   "metadata": {},
   "source": [
    "    One of the tests is not correct and if failed! The other one passed!\n",
    "    The test has expected to get 1 but the code returned 1.0, therefore, it failed\n",
    "    Let's fix it!"
   ]
  },
  {
   "cell_type": "code",
   "execution_count": 24,
   "metadata": {},
   "outputs": [
    {
     "name": "stdout",
     "output_type": "stream",
     "text": [
      "Trying:\n",
      "    get_power(1, 10)\n",
      "Expecting:\n",
      "    1.0\n",
      "ok\n",
      "Trying:\n",
      "    get_power(2.0, 3)\n",
      "Expecting:\n",
      "    8.0\n",
      "ok\n",
      "3 items had no tests:\n",
      "    __main__\n",
      "    __main__.no_return_func\n",
      "    __main__.return_func\n",
      "1 items passed all tests:\n",
      "   2 tests in __main__.get_power\n",
      "2 tests in 4 items.\n",
      "2 passed and 0 failed.\n",
      "Test passed.\n"
     ]
    },
    {
     "data": {
      "text/plain": [
       "TestResults(failed=0, attempted=2)"
      ]
     },
     "execution_count": 24,
     "metadata": {},
     "output_type": "execute_result"
    }
   ],
   "source": [
    "# different type of docstrings\n",
    "def get_power(num, to_power):\n",
    "    \"\"\" (float, int) -> float\n",
    "    Return the exponentioal power of the num\n",
    "    \n",
    "    >>> get_power(1, 10)\n",
    "    1.0\n",
    "    >>> get_power(2.0, 3)\n",
    "    8.0\n",
    "    \"\"\"\n",
    "    num = float(num)\n",
    "    return num ** to_power\n",
    "doctest.testmod(verbose=True)"
   ]
  },
  {
   "cell_type": "code",
   "execution_count": 30,
   "metadata": {},
   "outputs": [
    {
     "data": {
      "text/plain": [
       "TestResults(failed=0, attempted=3)"
      ]
     },
     "execution_count": 30,
     "metadata": {},
     "output_type": "execute_result"
    }
   ],
   "source": [
    "def get_square_tuple(tuple_):\n",
    "    \"\"\" (tuple) -> tuple\n",
    "    Returns square tuple \n",
    "    \n",
    "    >>> get_square_tuple((1, 2, 3, 5))\n",
    "    (1, 4, 9, 25)\n",
    "    \"\"\"\n",
    "    res = tuple()\n",
    "    for t in tuple_:\n",
    "        res = res + (t**2,)\n",
    "    return res\n",
    "doctest.testmod()\n",
    "# No failures\n",
    "# All three tests are passed. 2 are from get_power!"
   ]
  },
  {
   "cell_type": "markdown",
   "metadata": {},
   "source": [
    "## Type Hint\n",
    "    Python is a dynamic programming language. It means that the type of variables is not known in advance and can even be changed several times during process. Therefore, it might become frusterating for users to figure out the best input types to a function. In Addition python-users can enjoy the auto-complete/intelligence property provided by using type-hint!"
   ]
  },
  {
   "cell_type": "code",
   "execution_count": 31,
   "metadata": {},
   "outputs": [
    {
     "name": "stdout",
     "output_type": "stream",
     "text": [
      "Hello Dear pooya\n"
     ]
    }
   ],
   "source": [
    "# It has specified the expected input and output\n",
    "# The intelligence of jupyter notebook works on both the input and output!\n",
    "def greeting_func(name: str) -> str:\n",
    "    return f\"Hello Dear {name}\"\n",
    "output = greeting_func(\"pooya\")\n",
    "print(output)"
   ]
  },
  {
   "cell_type": "code",
   "execution_count": 32,
   "metadata": {},
   "outputs": [
    {
     "name": "stdout",
     "output_type": "stream",
     "text": [
      "pooya mohammadi\n"
     ]
    }
   ],
   "source": [
    "def full_name(first_name: str, last_name: str) -> str:\n",
    "    return first_name + ' ' + last_name\n",
    "\n",
    "output = full_name('pooya', 'mohammadi')\n",
    "print(output)"
   ]
  },
  {
   "cell_type": "code",
   "execution_count": 38,
   "metadata": {},
   "outputs": [],
   "source": [
    "# Type hinting is not specific to input arguments of functions!\n",
    "from typing import Tuple\n",
    "\n",
    "int_str_tuple: Tuple[int, str] = (2, 'Pooya')\n",
    "triple_int_tuple: Tuple[int, int, int] = (5, 9, 3)\n",
    "triple_str_tuple: Tuple[str, str, str] = ('a', 'b', \"9\")\n",
    "homogeneous_int_tuple: Tuple[int, ...] = (5, 9, 3, 5) # as many int \n",
    "list_dicts: List[Dict[int, str]] = [\n",
    "    {1: 'one', 2: 'two', 3: 'three'},\n",
    "    {11: 'eleven', 12: 'twelve', 13: 'thirteen'}\n",
    "]"
   ]
  },
  {
   "cell_type": "code",
   "execution_count": 45,
   "metadata": {},
   "outputs": [],
   "source": [
    "def get_power(nums: Tuple[int, ...], to_power: int) -> Dict[int, int]:\n",
    "    output = dict()\n",
    "    for item in nums:\n",
    "        output[item] = item ** to_power\n",
    "    return output"
   ]
  },
  {
   "cell_type": "markdown",
   "metadata": {},
   "source": [
    "### Notes for scope of functions"
   ]
  },
  {
   "cell_type": "code",
   "execution_count": 23,
   "metadata": {},
   "outputs": [
    {
     "name": "stdout",
     "output_type": "stream",
     "text": [
      "30 30\n",
      "10\n"
     ]
    }
   ],
   "source": [
    "var = 10\n",
    "def func_(input_1):\n",
    "    var_ = var + 20\n",
    "    print(var_,input_1)\n",
    "func_(30) \n",
    "print(var)"
   ]
  },
  {
   "cell_type": "code",
   "execution_count": 64,
   "metadata": {},
   "outputs": [
    {
     "name": "stdout",
     "output_type": "stream",
     "text": [
      "20 30\n",
      "10\n"
     ]
    }
   ],
   "source": [
    "var = 10\n",
    "def func_(input_1):\n",
    "    var = 20\n",
    "    print(var,input_1)\n",
    "func_(30) \n",
    "print(var)"
   ]
  },
  {
   "cell_type": "code",
   "execution_count": 65,
   "metadata": {},
   "outputs": [
    {
     "name": "stdout",
     "output_type": "stream",
     "text": [
      "[0, 2] [0, 2]\n",
      "[0, 2]\n"
     ]
    }
   ],
   "source": [
    "var = [10, 2]\n",
    "def func_(input_1):\n",
    "    input_1[0] = 0\n",
    "    print(var,input_1)\n",
    "func_(var) \n",
    "print(var)"
   ]
  },
  {
   "cell_type": "markdown",
   "metadata": {},
   "source": [
    "## global:"
   ]
  },
  {
   "cell_type": "code",
   "execution_count": 57,
   "metadata": {},
   "outputs": [
    {
     "name": "stdout",
     "output_type": "stream",
     "text": [
      "1\n"
     ]
    }
   ],
   "source": [
    "# global variable\n",
    "c = 1 \n",
    "\n",
    "def add():\n",
    "    print(c)\n",
    "\n",
    "add()"
   ]
  },
  {
   "cell_type": "code",
   "execution_count": 58,
   "metadata": {},
   "outputs": [
    {
     "ename": "UnboundLocalError",
     "evalue": "local variable 'c' referenced before assignment",
     "output_type": "error",
     "traceback": [
      "\u001b[1;31m---------------------------------------------------------------------------\u001b[0m",
      "\u001b[1;31mUnboundLocalError\u001b[0m                         Traceback (most recent call last)",
      "\u001b[1;32m~\\AppData\\Local\\Temp/ipykernel_6492/232401412.py\u001b[0m in \u001b[0;36m<module>\u001b[1;34m\u001b[0m\n\u001b[0;32m      5\u001b[0m     \u001b[0mprint\u001b[0m\u001b[1;33m(\u001b[0m\u001b[0mc\u001b[0m\u001b[1;33m)\u001b[0m\u001b[1;33m\u001b[0m\u001b[1;33m\u001b[0m\u001b[0m\n\u001b[0;32m      6\u001b[0m \u001b[1;33m\u001b[0m\u001b[0m\n\u001b[1;32m----> 7\u001b[1;33m \u001b[0madd\u001b[0m\u001b[1;33m(\u001b[0m\u001b[1;33m)\u001b[0m\u001b[1;33m\u001b[0m\u001b[1;33m\u001b[0m\u001b[0m\n\u001b[0m",
      "\u001b[1;32m~\\AppData\\Local\\Temp/ipykernel_6492/232401412.py\u001b[0m in \u001b[0;36madd\u001b[1;34m()\u001b[0m\n\u001b[0;32m      2\u001b[0m \u001b[1;33m\u001b[0m\u001b[0m\n\u001b[0;32m      3\u001b[0m \u001b[1;32mdef\u001b[0m \u001b[0madd\u001b[0m\u001b[1;33m(\u001b[0m\u001b[1;33m)\u001b[0m\u001b[1;33m:\u001b[0m\u001b[1;33m\u001b[0m\u001b[1;33m\u001b[0m\u001b[0m\n\u001b[1;32m----> 4\u001b[1;33m     \u001b[0mc\u001b[0m \u001b[1;33m=\u001b[0m \u001b[0mc\u001b[0m \u001b[1;33m+\u001b[0m \u001b[1;36m2\u001b[0m \u001b[1;31m# increment c by 2\u001b[0m\u001b[1;33m\u001b[0m\u001b[1;33m\u001b[0m\u001b[0m\n\u001b[0m\u001b[0;32m      5\u001b[0m     \u001b[0mprint\u001b[0m\u001b[1;33m(\u001b[0m\u001b[0mc\u001b[0m\u001b[1;33m)\u001b[0m\u001b[1;33m\u001b[0m\u001b[1;33m\u001b[0m\u001b[0m\n\u001b[0;32m      6\u001b[0m \u001b[1;33m\u001b[0m\u001b[0m\n",
      "\u001b[1;31mUnboundLocalError\u001b[0m: local variable 'c' referenced before assignment"
     ]
    }
   ],
   "source": [
    "c = 1 # global variable\n",
    "    \n",
    "def add():\n",
    "    c = c + 2 # increment c by 2\n",
    "    print(c)\n",
    "\n",
    "add()"
   ]
  },
  {
   "cell_type": "code",
   "execution_count": 59,
   "metadata": {},
   "outputs": [
    {
     "name": "stdout",
     "output_type": "stream",
     "text": [
      "Inside add(): 2\n",
      "In main: 2\n"
     ]
    }
   ],
   "source": [
    "c = 0 # global variable\n",
    "\n",
    "def add():\n",
    "    global c\n",
    "    c = c + 2 # increment by 2\n",
    "    print(\"Inside add():\", c)\n",
    "\n",
    "add()\n",
    "print(\"In main:\", c)"
   ]
  },
  {
   "cell_type": "markdown",
   "metadata": {},
   "source": [
    "## Another example:"
   ]
  },
  {
   "cell_type": "code",
   "execution_count": 60,
   "metadata": {},
   "outputs": [
    {
     "ename": "UnboundLocalError",
     "evalue": "local variable 'var' referenced before assignment",
     "output_type": "error",
     "traceback": [
      "\u001b[1;31m---------------------------------------------------------------------------\u001b[0m",
      "\u001b[1;31mUnboundLocalError\u001b[0m                         Traceback (most recent call last)",
      "\u001b[1;32m~\\AppData\\Local\\Temp/ipykernel_6492/645240063.py\u001b[0m in \u001b[0;36m<module>\u001b[1;34m\u001b[0m\n\u001b[0;32m      3\u001b[0m     \u001b[0mvar\u001b[0m \u001b[1;33m+=\u001b[0m \u001b[0minput_1\u001b[0m\u001b[1;33m\u001b[0m\u001b[1;33m\u001b[0m\u001b[0m\n\u001b[0;32m      4\u001b[0m     \u001b[0mprint\u001b[0m\u001b[1;33m(\u001b[0m\u001b[0mvar\u001b[0m\u001b[1;33m,\u001b[0m\u001b[0minput_1\u001b[0m\u001b[1;33m)\u001b[0m\u001b[1;33m\u001b[0m\u001b[1;33m\u001b[0m\u001b[0m\n\u001b[1;32m----> 5\u001b[1;33m \u001b[0mfunc_\u001b[0m\u001b[1;33m(\u001b[0m\u001b[1;36m30\u001b[0m\u001b[1;33m)\u001b[0m\u001b[1;33m\u001b[0m\u001b[1;33m\u001b[0m\u001b[0m\n\u001b[0m",
      "\u001b[1;32m~\\AppData\\Local\\Temp/ipykernel_6492/645240063.py\u001b[0m in \u001b[0;36mfunc_\u001b[1;34m(input_1)\u001b[0m\n\u001b[0;32m      1\u001b[0m \u001b[0mvar\u001b[0m \u001b[1;33m=\u001b[0m \u001b[1;36m10\u001b[0m\u001b[1;33m\u001b[0m\u001b[1;33m\u001b[0m\u001b[0m\n\u001b[0;32m      2\u001b[0m \u001b[1;32mdef\u001b[0m \u001b[0mfunc_\u001b[0m\u001b[1;33m(\u001b[0m\u001b[0minput_1\u001b[0m\u001b[1;33m)\u001b[0m\u001b[1;33m:\u001b[0m\u001b[1;33m\u001b[0m\u001b[1;33m\u001b[0m\u001b[0m\n\u001b[1;32m----> 3\u001b[1;33m     \u001b[0mvar\u001b[0m \u001b[1;33m+=\u001b[0m \u001b[0minput_1\u001b[0m\u001b[1;33m\u001b[0m\u001b[1;33m\u001b[0m\u001b[0m\n\u001b[0m\u001b[0;32m      4\u001b[0m     \u001b[0mprint\u001b[0m\u001b[1;33m(\u001b[0m\u001b[0mvar\u001b[0m\u001b[1;33m,\u001b[0m\u001b[0minput_1\u001b[0m\u001b[1;33m)\u001b[0m\u001b[1;33m\u001b[0m\u001b[1;33m\u001b[0m\u001b[0m\n\u001b[0;32m      5\u001b[0m \u001b[0mfunc_\u001b[0m\u001b[1;33m(\u001b[0m\u001b[1;36m30\u001b[0m\u001b[1;33m)\u001b[0m\u001b[1;33m\u001b[0m\u001b[1;33m\u001b[0m\u001b[0m\n",
      "\u001b[1;31mUnboundLocalError\u001b[0m: local variable 'var' referenced before assignment"
     ]
    }
   ],
   "source": [
    "var = 10\n",
    "def func_(input_1):\n",
    "    var += input_1\n",
    "    print(var,input_1)\n",
    "func_(30)"
   ]
  },
  {
   "cell_type": "code",
   "execution_count": 61,
   "metadata": {},
   "outputs": [
    {
     "name": "stdout",
     "output_type": "stream",
     "text": [
      "40 30\n"
     ]
    }
   ],
   "source": [
    "var = 10\n",
    "def func_(input_1):\n",
    "    global var\n",
    "    var += input_1\n",
    "    print(var,input_1)\n",
    "func_(30)"
   ]
  },
  {
   "cell_type": "markdown",
   "metadata": {},
   "source": [
    "## Passing a List as an Argument\n",
    "\n",
    "You can send any data types of argument to a function (string, number, list, dictionary etc.), \n",
    "and it will be treated as the same data type inside the function.\n",
    "\n",
    "E.g. if you send a List as an argument, it will still be a List when it reaches the function:"
   ]
  },
  {
   "cell_type": "code",
   "execution_count": 28,
   "metadata": {},
   "outputs": [
    {
     "name": "stdout",
     "output_type": "stream",
     "text": [
      "apple\n",
      "banana\n",
      "cherry\n"
     ]
    }
   ],
   "source": [
    "def my_function(food):\n",
    "    for x in food:\n",
    "        print(x)\n",
    "\n",
    "fruits = [\"apple\", \"banana\", \"cherry\"]\n",
    "\n",
    "my_function(fruits)"
   ]
  },
  {
   "cell_type": "markdown",
   "metadata": {},
   "source": [
    "## Recursion\n",
    "\n",
    "    Python also accepts function recursion, which means a defined function can call itself.\n",
    "\n",
    "    Recursion is a common mathematical and programming concept. It means that a function calls itself.\n",
    "\n",
    "    This has the benefit of meaning that you can loop through data to reach a result"
   ]
  },
  {
   "cell_type": "code",
   "execution_count": 48,
   "metadata": {},
   "outputs": [
    {
     "data": {
      "text/plain": [
       "120"
      ]
     },
     "execution_count": 48,
     "metadata": {},
     "output_type": "execute_result"
    }
   ],
   "source": [
    "#Factorial function:\n",
    "\n",
    "def func_(n):\n",
    "    \"\"\"\n",
    "    >>> func_(5)\n",
    "    (5 * func_(4))\n",
    "    \n",
    "    func_(4) = 4 * func_(3)\n",
    "    func_(3) = 3 * func_(2)\n",
    "    func_(2) = 2 * func_(1)\n",
    "    func_(1) = 1\n",
    "    func_(5) = 5* 4* 3* 2* 1\n",
    "    func_(5) = 120\n",
    "    \"\"\"\n",
    "    \n",
    "    if n <= 1:\n",
    "        return 1\n",
    "    else:\n",
    "        return n * func_(n - 1)\n",
    "func_(5)"
   ]
  },
  {
   "cell_type": "code",
   "execution_count": 66,
   "metadata": {},
   "outputs": [
    {
     "data": {
      "text/plain": [
       "21"
      ]
     },
     "execution_count": 66,
     "metadata": {},
     "output_type": "execute_result"
    }
   ],
   "source": [
    "def my_func(k):\n",
    "    \"\"\"\n",
    "    >>> my_func(6)\n",
    "    (6 + my_func(5))\n",
    "    \n",
    "    my_func(5) = 5 + my_func(4)\n",
    "    my_func(4) = 4 + my_func(3)\n",
    "    my_func(3) = 3 + my_func(2)\n",
    "    my_func(2) = 2 + my_func(1)\n",
    "    my_func(1) = 1 + my_func(0)\n",
    "    my_func(0) = 0\n",
    "    \n",
    "    my_func(6) = 6 + 5 + 4 + 3 + 2 + 1 + 0\n",
    "    my_func(6) = 21\n",
    "    \n",
    "    \"\"\"\n",
    "    if (k > 0):\n",
    "        result = k + my_func(k - 1)\n",
    "            \n",
    "    else:\n",
    "        result = 0\n",
    "    return result         \n",
    "\n",
    "my_func(6)"
   ]
  },
  {
   "cell_type": "markdown",
   "metadata": {},
   "source": [
    "## \\*args and \\**kwargs in Python\n",
    "\n",
    "### *args\n",
    "If you do not know how many arguments that will be passed into your function, add a * before the parameter name in the function definition.\n",
    "\n",
    "This way the function will receive a tuple of arguments, and can access the items accordingly:"
   ]
  },
  {
   "cell_type": "code",
   "execution_count": 40,
   "metadata": {},
   "outputs": [
    {
     "name": "stdout",
     "output_type": "stream",
     "text": [
      "<class 'tuple'>\n",
      "hello\n",
      "dear\n",
      "friends\n",
      "pooya\n",
      "menoo\n"
     ]
    }
   ],
   "source": [
    "def func(*args): \n",
    "    print(type(args))\n",
    "    for arg in args:  \n",
    "        print(arg)\n",
    "func('hello', 'dear', 'friends', 'pooya', 'menoo') "
   ]
  },
  {
   "cell_type": "code",
   "execution_count": 41,
   "metadata": {},
   "outputs": [
    {
     "data": {
      "text/plain": [
       "28"
      ]
     },
     "execution_count": 41,
     "metadata": {},
     "output_type": "execute_result"
    }
   ],
   "source": [
    "def sum_(*args):\n",
    "    sum = 0\n",
    "    for arg in args:\n",
    "        sum += arg\n",
    "    return sum    \n",
    "sum_(0,10,3,6,9)"
   ]
  },
  {
   "cell_type": "code",
   "execution_count": 44,
   "metadata": {},
   "outputs": [
    {
     "name": "stdout",
     "output_type": "stream",
     "text": [
      "First argument : Hello\n",
      "Next argument through *args : Welcome\n",
      "Next argument through *args : to\n",
      "Next argument through *args : python_dm\n"
     ]
    }
   ],
   "source": [
    "def func(arg_1, *args): \n",
    "    print (\"First argument :\", arg_1) \n",
    "    for arg in args: \n",
    "        print(\"Next argument through *args :\", arg) \n",
    "func('Hello', 'Welcome', 'to', 'python_dm') "
   ]
  },
  {
   "cell_type": "markdown",
   "metadata": {},
   "source": [
    "## Arbitrary Keyword Arguments, **kwargs\n",
    "\n",
    "If you do not know how many keyword arguments that will be passed into your function, add two asterisk:\n",
    "** before the parameter name in the function definition."
   ]
  },
  {
   "cell_type": "code",
   "execution_count": 45,
   "metadata": {},
   "outputs": [
    {
     "name": "stdout",
     "output_type": "stream",
     "text": [
      "first == python\n",
      "mid == dm\n",
      "last == kntu\n"
     ]
    }
   ],
   "source": [
    "def func(**kwargs):  \n",
    "    for key, value in kwargs.items(): \n",
    "        print (\"%s == %s\" %(key, value)) \n",
    "func(first ='python', mid ='dm', last='kntu') "
   ]
  },
  {
   "cell_type": "code",
   "execution_count": 46,
   "metadata": {},
   "outputs": [
    {
     "name": "stdout",
     "output_type": "stream",
     "text": [
      "15\n"
     ]
    }
   ],
   "source": [
    "def func(part, **kwargs):\n",
    "    if part == 'first':\n",
    "        result = kwargs['first']\n",
    "    elif part == 'second':\n",
    "        result = kwargs['second']\n",
    "    elif part == 'third':\n",
    "        result = kwargs['third']\n",
    "    else:\n",
    "        result = ':('\n",
    "    print(result)\n",
    "func('second', second=15)"
   ]
  },
  {
   "cell_type": "markdown",
   "metadata": {},
   "source": [
    "## arg and \\*args and \\**kwargs:"
   ]
  },
  {
   "cell_type": "code",
   "execution_count": 48,
   "metadata": {},
   "outputs": [
    {
     "name": "stdout",
     "output_type": "stream",
     "text": [
      "First argument : hi\n",
      "Next argument through *args : there\n",
      "Next argument through *args : python\n",
      "\n",
      " Kwarg arguments:\n",
      "name == pooya\n",
      "kidding == yeah\n"
     ]
    }
   ],
   "source": [
    "def func(arg_1, *args, **kwargs): \n",
    "    print (\"First argument :\", arg_1) \n",
    "    \n",
    "    for arg in args: \n",
    "        print(\"Next argument through *args :\", arg)\n",
    "        \n",
    "    print('\\n', 'Kwarg arguments:')\n",
    "    \n",
    "    for key, value in kwargs.items(): \n",
    "        print (\"%s == %s\" %(key, value)) \n",
    "        \n",
    "func('hi', 'there', 'python', name='pooya', kidding='yeah')"
   ]
  },
  {
   "cell_type": "markdown",
   "metadata": {},
   "source": [
    "### Using \\*args and \\**kwargs to call a function"
   ]
  },
  {
   "cell_type": "code",
   "execution_count": 49,
   "metadata": {},
   "outputs": [],
   "source": [
    "def func(arg_1, arg_2, arg_3): \n",
    "    print(\"arg_1:\", arg_1) \n",
    "    print(\"arg_2:\", arg_2) \n",
    "    print(\"arg_3:\", arg_3)"
   ]
  },
  {
   "cell_type": "code",
   "execution_count": 50,
   "metadata": {},
   "outputs": [
    {
     "name": "stdout",
     "output_type": "stream",
     "text": [
      "arg_1: python\n",
      "arg_2: dm\n",
      "arg_3: kntu\n"
     ]
    }
   ],
   "source": [
    "args = (\"python\", \"dm\", \"kntu\") \n",
    "func(*args) "
   ]
  },
  {
   "cell_type": "code",
   "execution_count": 51,
   "metadata": {},
   "outputs": [
    {
     "name": "stdout",
     "output_type": "stream",
     "text": [
      "arg_1: python\n",
      "arg_2: dm\n",
      "arg_3: kntu\n"
     ]
    }
   ],
   "source": [
    "kwargs = {\"arg_1\" : \"python\", \"arg_2\" : \"dm\", \"arg_3\" : \"kntu\"} \n",
    "func(**kwargs) "
   ]
  },
  {
   "cell_type": "markdown",
   "metadata": {},
   "source": [
    "## The pass and three Statement\n",
    "\n",
    "    function definitions cannot be empty, but if you for some reason have a function definition with no content, put in the ‍‍`pass` statement or `...` immediately after colon(:) to avoid getting an error, like the following example. Moreover, the output is None because no return is defnied!\n"
   ]
  },
  {
   "cell_type": "code",
   "execution_count": 51,
   "metadata": {},
   "outputs": [
    {
     "name": "stdout",
     "output_type": "stream",
     "text": [
      "result is None\n"
     ]
    }
   ],
   "source": [
    "def func():\n",
    "    pass\n",
    "output = func()\n",
    "print(f\"result is {output}\")"
   ]
  },
  {
   "cell_type": "code",
   "execution_count": 52,
   "metadata": {},
   "outputs": [
    {
     "name": "stdout",
     "output_type": "stream",
     "text": [
      "result is None\n"
     ]
    }
   ],
   "source": [
    "def func():\n",
    "    pass\n",
    "output = func()\n",
    "print(f\"result is {output}\")"
   ]
  },
  {
   "cell_type": "markdown",
   "metadata": {
    "collapsed": true
   },
   "source": [
    "*:)*"
   ]
  }
 ],
 "metadata": {
  "kernelspec": {
   "display_name": "Python 3 (ipykernel)",
   "language": "python",
   "name": "python3"
  },
  "language_info": {
   "codemirror_mode": {
    "name": "ipython",
    "version": 3
   },
   "file_extension": ".py",
   "mimetype": "text/x-python",
   "name": "python",
   "nbconvert_exporter": "python",
   "pygments_lexer": "ipython3",
   "version": "3.9.12"
  }
 },
 "nbformat": 4,
 "nbformat_minor": 2
}
