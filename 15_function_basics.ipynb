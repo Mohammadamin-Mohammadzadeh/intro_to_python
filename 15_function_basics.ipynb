{
 "cells": [
  {
   "cell_type": "markdown",
   "id": "5e8a7ee3",
   "metadata": {},
   "source": [
    "# Functions-Basics\n",
    "    1. Creating a Function\n",
    "    2. Calling a Function\n",
    "    3. functions' arguments "
   ]
  },
  {
   "cell_type": "markdown",
   "id": "08951367",
   "metadata": {},
   "source": [
    "    A function is a block of code which only runs when it is called.\n",
    "\n",
    "    You can pass data, known as parameters or input arguments, into a function.\n",
    "\n",
    "    A function can return data or None as a result. \n",
    "\n",
    "    The result/output of a function is mainly assigned to a variable ...\n"
   ]
  },
  {
   "cell_type": "markdown",
   "id": "473f28b4",
   "metadata": {},
   "source": [
    "## Creating a Function\n",
    "\n",
    "In Python a function is defined using the ‍‍‍`def` keyword:"
   ]
  },
  {
   "cell_type": "code",
   "execution_count": 5,
   "id": "550bd4e1",
   "metadata": {},
   "outputs": [],
   "source": [
    "#it has no input argument, but has an output\n",
    "def return_func():\n",
    "    return 'hello world'"
   ]
  },
  {
   "cell_type": "markdown",
   "id": "3cb045f5",
   "metadata": {},
   "source": [
    "## Calling a Function\n",
    "\n",
    "To call a function, use the function name followed by parenthesis:"
   ]
  },
  {
   "cell_type": "code",
   "execution_count": 1,
   "id": "853d61c9",
   "metadata": {},
   "outputs": [
    {
     "ename": "NameError",
     "evalue": "name 'return_func' is not defined",
     "output_type": "error",
     "traceback": [
      "\u001b[0;31m---------------------------------------------------------------------------\u001b[0m",
      "\u001b[0;31mNameError\u001b[0m                                 Traceback (most recent call last)",
      "Input \u001b[0;32mIn [1]\u001b[0m, in \u001b[0;36m<cell line: 2>\u001b[0;34m()\u001b[0m\n\u001b[1;32m      1\u001b[0m \u001b[38;5;66;03m# calling a function\u001b[39;00m\n\u001b[0;32m----> 2\u001b[0m \u001b[43mreturn_func\u001b[49m()\n",
      "\u001b[0;31mNameError\u001b[0m: name 'return_func' is not defined"
     ]
    }
   ],
   "source": [
    "# calling a function\n",
    "return_func()"
   ]
  },
  {
   "cell_type": "code",
   "execution_count": 7,
   "id": "9388d2ff",
   "metadata": {},
   "outputs": [],
   "source": [
    "# a function may have no outputs\n",
    "# In this case, by default, it returns None as its output!\n",
    "def no_return_func():\n",
    "    print('hello world')"
   ]
  },
  {
   "cell_type": "code",
   "execution_count": null,
   "id": "9b986d6d",
   "metadata": {},
   "outputs": [],
   "source": [
    "# call function\n",
    "# It prints 'hello world'. It does not return it!\n",
    "no_return_func()"
   ]
  },
  {
   "cell_type": "code",
   "execution_count": null,
   "id": "1961860a",
   "metadata": {},
   "outputs": [],
   "source": [
    "# let's check the return of no_return_func\n",
    "result = no_return_func()\n",
    "print('result is:', result)"
   ]
  },
  {
   "cell_type": "code",
   "execution_count": null,
   "id": "5625665a",
   "metadata": {},
   "outputs": [],
   "source": [
    "# To campare let's check the result of return_func\n",
    "result = return_func()\n",
    "print('result is:', result)"
   ]
  },
  {
   "cell_type": "markdown",
   "id": "25ebd248",
   "metadata": {},
   "source": [
    "## Function Arguments"
   ]
  },
  {
   "cell_type": "markdown",
   "id": "909b2a68",
   "metadata": {},
   "source": [
    "    Information can be passed into functions as arguments.\n",
    "\n",
    "    Arguments are specified after the function name, inside the parentheses. You can add as many arguments as you want, just separate them with a comma.\n",
    "    \n",
    "    These areguments are called required arguments because they must be provided for the function to work!\n"
   ]
  },
  {
   "cell_type": "code",
   "execution_count": null,
   "id": "33b02292",
   "metadata": {},
   "outputs": [],
   "source": [
    "# a simple function with two parameters\n",
    "def get_power(num, to_power):\n",
    "    return num ** to_power"
   ]
  },
  {
   "cell_type": "code",
   "execution_count": null,
   "id": "3c3014f4",
   "metadata": {},
   "outputs": [],
   "source": [
    "# calling the func function\n",
    "powered_number = get_power(10, 3)\n",
    "print('result is:', powered_number)"
   ]
  },
  {
   "cell_type": "markdown",
   "id": "27836552",
   "metadata": {},
   "source": [
    "### If you call the function with less or more than 2 arguments, you will get TypeError!"
   ]
  },
  {
   "cell_type": "code",
   "execution_count": null,
   "id": "bb5f5a2d",
   "metadata": {},
   "outputs": [],
   "source": [
    "# These two arguments are not optional!\n",
    "def get_full_name(f_name, l_name):\n",
    "    print(f_name + \" \" + l_name)\n",
    "\n",
    "get_full_name('pooya', \"mohammadi\")"
   ]
  },
  {
   "cell_type": "code",
   "execution_count": null,
   "id": "48d03378",
   "metadata": {},
   "outputs": [],
   "source": [
    "get_full_name('pooya')"
   ]
  },
  {
   "cell_type": "code",
   "execution_count": null,
   "id": "cd2d8ba2",
   "metadata": {},
   "outputs": [],
   "source": [
    "def add(var_1, var_2):\n",
    "    print(f'var_1: {var_1}')\n",
    "    print(f'var_2: {var_2}')\n",
    "    return var_1 + var_2\n",
    "add(10)"
   ]
  },
  {
   "cell_type": "markdown",
   "id": "fe9574d8",
   "metadata": {},
   "source": [
    "### Keyword arguments\n",
    "    The arguments are passed by the name of the input argument defined by the function\n",
    "    The order of arguments is not important, but it's recommanded to maintain the order of the inputs\n",
    "    It prevents any confusion at the time of argument passing"
   ]
  },
  {
   "cell_type": "code",
   "execution_count": null,
   "id": "3742cbb1",
   "metadata": {},
   "outputs": [],
   "source": [
    "# recommended!\n",
    "value = add(var_1=10, var_2=20)\n",
    "value"
   ]
  },
  {
   "cell_type": "code",
   "execution_count": null,
   "id": "04365a32",
   "metadata": {},
   "outputs": [],
   "source": [
    "# not recommended!\n",
    "var = add(var_2=20, var_1=10)\n",
    "var"
   ]
  },
  {
   "cell_type": "code",
   "execution_count": null,
   "id": "d2cefe50",
   "metadata": {},
   "outputs": [],
   "source": [
    "# What if providing an argument name which is not defined!\n",
    "# unexpected keyword argument!\n",
    "add(var_1=20, var_3=10)"
   ]
  },
  {
   "cell_type": "markdown",
   "id": "775a8632",
   "metadata": {},
   "source": [
    "### How to combine keyword arguments with positional arguments\n",
    "    positional arguemtns comes first\n",
    "    then, keyword arguemtns are used"
   ]
  },
  {
   "cell_type": "code",
   "execution_count": null,
   "id": "4d64f870",
   "metadata": {},
   "outputs": [],
   "source": [
    "var = add(20, var_2=10)\n",
    "var"
   ]
  },
  {
   "cell_type": "code",
   "execution_count": null,
   "id": "44cc4776",
   "metadata": {},
   "outputs": [],
   "source": [
    "# SyntaxError: positional argument follows keyword argument\n",
    "var = add(var_1=20, 10)\n",
    "var"
   ]
  },
  {
   "cell_type": "markdown",
   "id": "e43f53ce",
   "metadata": {},
   "source": [
    "\n",
    "### Default Parameter/Argument Value\n",
    "\n",
    "    The following example shows how to use a default parameter value.\n",
    "\n",
    "    If the function is called without arguments, it uses the default value if there are any!!\n",
    "    \n",
    "    If you want to have default values, you should specify them after each input argument!"
   ]
  },
  {
   "cell_type": "code",
   "execution_count": null,
   "id": "4b40636f",
   "metadata": {},
   "outputs": [],
   "source": [
    "def add(var_1, var_2=5):\n",
    "    print(f'var_1 is {var_1}')\n",
    "    print(f'var_2 is {var_2}')\n",
    "    return var_1 + var_2"
   ]
  },
  {
   "cell_type": "code",
   "execution_count": null,
   "id": "d8ecd3e7",
   "metadata": {},
   "outputs": [],
   "source": [
    "# because var_2 is a default parameter, providing the first arg is sufficient!\n",
    "add(var_1=15)"
   ]
  },
  {
   "cell_type": "code",
   "execution_count": null,
   "id": "0d5e6e61",
   "metadata": {},
   "outputs": [],
   "source": [
    "# default arguments' values can be changed\n",
    "add(1, 15)"
   ]
  },
  {
   "cell_type": "code",
   "execution_count": null,
   "id": "f66efd6f",
   "metadata": {},
   "outputs": [],
   "source": [
    "# Although the order of input arguments is not required, passing values without order is not recommended.\n",
    "add(var_2=4, var_1=5)"
   ]
  },
  {
   "cell_type": "code",
   "execution_count": null,
   "id": "131bc961",
   "metadata": {},
   "outputs": [],
   "source": [
    "# Another example:\n",
    "def my_country(country=\"Iran\"):\n",
    "    print(\"I am from \" + country)\n",
    "\n",
    "my_country()\n",
    "my_country(\"Sweden\")\n",
    "my_country(\"Turkey\")\n",
    "my_country(\"Brazil\") "
   ]
  },
  {
   "cell_type": "markdown",
   "id": "f3279850",
   "metadata": {},
   "source": [
    "*_:-)_*"
   ]
  }
 ],
 "metadata": {
  "kernelspec": {
   "display_name": "Python 3 (ipykernel)",
   "language": "python",
   "name": "python3"
  },
  "language_info": {
   "codemirror_mode": {
    "name": "ipython",
    "version": 3
   },
   "file_extension": ".py",
   "mimetype": "text/x-python",
   "name": "python",
   "nbconvert_exporter": "python",
   "pygments_lexer": "ipython3",
   "version": "3.9.12"
  }
 },
 "nbformat": 4,
 "nbformat_minor": 5
}
