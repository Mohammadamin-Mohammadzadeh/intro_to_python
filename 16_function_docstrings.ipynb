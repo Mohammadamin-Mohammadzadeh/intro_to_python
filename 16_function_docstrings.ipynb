{
 "cells": [
  {
   "cell_type": "markdown",
   "id": "a9d7c501",
   "metadata": {},
   "source": [
    "# Functions-Docstrings\n",
    "    1. Docstrings\n",
    "    2. Tests\n",
    "    3. Tests Failures!"
   ]
  },
  {
   "cell_type": "markdown",
   "id": "40ed422b",
   "metadata": {},
   "source": [
    "## Docstring\n",
    "    a function's docstring provides neccessary information about it, so users would have a clear and concise understanding of how the function works, what the input parameters should be, what would be outputs, and sometimes they may contain tests to further illusterate the functionalities implemented in the function."
   ]
  },
  {
   "cell_type": "code",
   "execution_count": null,
   "id": "3511bbce",
   "metadata": {},
   "outputs": [],
   "source": [
    "# a simple function with two parameters\n",
    "def get_power(num, to_power):\n",
    "    \"\"\"\n",
    "    This function raises any number to the power of another number\n",
    "    :param num: the base number\n",
    "    :param to_power: the base number will be raised to the power of this input/to_power.  \n",
    "    :return: return the num to the power of to_power\n",
    "    \"\"\"\n",
    "    return num ** to_power"
   ]
  },
  {
   "cell_type": "code",
   "execution_count": null,
   "id": "ca505582",
   "metadata": {},
   "outputs": [],
   "source": [
    "# get help -> recommended!\n",
    "help(get_power)"
   ]
  },
  {
   "cell_type": "code",
   "execution_count": null,
   "id": "9b517cf0",
   "metadata": {},
   "outputs": [],
   "source": [
    "# get help -> recommended!\n",
    "help(get_power)"
   ]
  },
  {
   "cell_type": "code",
   "execution_count": null,
   "id": "fe271c5d",
   "metadata": {},
   "outputs": [],
   "source": [
    "# Shows docstring\n",
    "?get_power"
   ]
  },
  {
   "cell_type": "code",
   "execution_count": null,
   "id": "071feac1",
   "metadata": {},
   "outputs": [],
   "source": [
    "# shows functionality\n",
    "??get_power"
   ]
  },
  {
   "cell_type": "code",
   "execution_count": null,
   "id": "6b302052",
   "metadata": {},
   "outputs": [],
   "source": [
    "# get help -> using special methods -> not recommended\n",
    "print(get_power.__doc__)"
   ]
  },
  {
   "cell_type": "markdown",
   "id": "cc0f6f49",
   "metadata": {},
   "source": [
    "## Docstring with tests"
   ]
  },
  {
   "cell_type": "code",
   "execution_count": 1,
   "id": "7b90027a",
   "metadata": {},
   "outputs": [],
   "source": [
    "def get_power(num, to_power):\n",
    "    \"\"\" (float, int) -> float\n",
    "    Return the exponentioal power of the num\n",
    "    \n",
    "    >>> get_power(1, 10)\n",
    "    1\n",
    "    >>> get_power(2.0, 3)\n",
    "    8.0\n",
    "    \"\"\"\n",
    "    num = float(num)\n",
    "    return num ** to_power"
   ]
  },
  {
   "cell_type": "code",
   "execution_count": 2,
   "id": "2b7f202b",
   "metadata": {},
   "outputs": [
    {
     "name": "stdout",
     "output_type": "stream",
     "text": [
      "[INFO] starting the test!\n",
      "Trying:\n",
      "    get_power(1, 10)\n",
      "Expecting:\n",
      "    1\n",
      "**********************************************************************\n",
      "File \"__main__\", line 5, in __main__.get_power\n",
      "Failed example:\n",
      "    get_power(1, 10)\n",
      "Expected:\n",
      "    1\n",
      "Got:\n",
      "    1.0\n",
      "Trying:\n",
      "    get_power(2.0, 3)\n",
      "Expecting:\n",
      "    8.0\n",
      "ok\n",
      "1 items had no tests:\n",
      "    __main__\n",
      "**********************************************************************\n",
      "1 items had failures:\n",
      "   1 of   2 in __main__.get_power\n",
      "2 tests in 2 items.\n",
      "1 passed and 1 failed.\n",
      "***Test Failed*** 1 failures.\n"
     ]
    },
    {
     "data": {
      "text/plain": [
       "TestResults(failed=1, attempted=2)"
      ]
     },
     "execution_count": 2,
     "metadata": {},
     "output_type": "execute_result"
    }
   ],
   "source": [
    "# To validate tests in docstrings\n",
    "import doctest\n",
    "print(\"[INFO] starting the test!\")\n",
    "doctest.testmod(verbose=True)"
   ]
  },
  {
   "cell_type": "markdown",
   "id": "82a79fc4",
   "metadata": {},
   "source": [
    "    One of the tests did not pass and failed! The other one passed!\n",
    "    The test expected to get 1, but the code returned 1.0, therefore, it failed\n",
    "    Let's fix it!"
   ]
  },
  {
   "cell_type": "code",
   "execution_count": null,
   "id": "bb45ef75",
   "metadata": {},
   "outputs": [],
   "source": [
    "def get_power(num, to_power):\n",
    "    \"\"\" (float, int) -> float\n",
    "    Return the exponentioal power of the num\n",
    "    \n",
    "    >>> get_power(1, 10)\n",
    "    1.0\n",
    "    >>> get_power(2.0, 3)\n",
    "    8.0\n",
    "    \"\"\"\n",
    "    num = float(num)\n",
    "    return num ** to_power\n",
    "print(\"[INFO] starting the test!\")\n",
    "doctest.testmod(verbose=True)"
   ]
  },
  {
   "cell_type": "code",
   "execution_count": null,
   "id": "a912829c",
   "metadata": {},
   "outputs": [],
   "source": [
    "def get_square_tuple(tuple_):\n",
    "    \"\"\" (tuple) -> tuple\n",
    "    Returns square tuple \n",
    "    \n",
    "    >>> get_square_tuple((1, 2, 3, 5))\n",
    "    (1, 4, 9, 25)\n",
    "    \"\"\"\n",
    "    res = tuple()\n",
    "    for t in tuple_:\n",
    "        res = res + (t**2, )\n",
    "    return res\n",
    "print(\"[INFO] starting the test!\")\n",
    "doctest.testmod()\n",
    "# No failures\n",
    "# All three tests are passed. two of them are from get_power!"
   ]
  },
  {
   "cell_type": "markdown",
   "id": "b79636d9",
   "metadata": {},
   "source": [
    "## Tests Failures!\n",
    "    In some tests, you may want to show failure cases to warn the users!\n",
    "    Only the Traceback and the final error message should be included in the test!"
   ]
  },
  {
   "cell_type": "code",
   "execution_count": 14,
   "id": "3f434018",
   "metadata": {},
   "outputs": [
    {
     "name": "stdout",
     "output_type": "stream",
     "text": [
      "[INFO] starting the test!\n",
      "**********************************************************************\n",
      "File \"__main__\", line 5, in __main__.get_power\n",
      "Failed example:\n",
      "    get_power(1, 10)\n",
      "Expected:\n",
      "    1\n",
      "Got:\n",
      "    1.0\n",
      "**********************************************************************\n",
      "1 items had failures:\n",
      "   1 of   2 in __main__.get_power\n",
      "***Test Failed*** 1 failures.\n"
     ]
    },
    {
     "data": {
      "text/plain": [
       "TestResults(failed=1, attempted=4)"
      ]
     },
     "execution_count": 14,
     "metadata": {},
     "output_type": "execute_result"
    }
   ],
   "source": [
    "# In the first test, I want\n",
    "def division(a, b):\n",
    "    \"\"\"\n",
    "    Divides a by b\n",
    "    \n",
    "    >>> division(10, 0)\n",
    "    Traceback (most recent call last):\n",
    "    ZeroDivisionError: division by zero\n",
    "    >>> division(10, 2)\n",
    "    5.0\n",
    "    \"\"\"\n",
    "    return a / b\n",
    "print(\"[INFO] starting the test!\")\n",
    "doctest.testmod()"
   ]
  },
  {
   "cell_type": "markdown",
   "id": "114a5b29",
   "metadata": {},
   "source": [
    "*_:-)_*"
   ]
  }
 ],
 "metadata": {
  "kernelspec": {
   "display_name": "Python 3 (ipykernel)",
   "language": "python",
   "name": "python3"
  },
  "language_info": {
   "codemirror_mode": {
    "name": "ipython",
    "version": 3
   },
   "file_extension": ".py",
   "mimetype": "text/x-python",
   "name": "python",
   "nbconvert_exporter": "python",
   "pygments_lexer": "ipython3",
   "version": "3.9.12"
  }
 },
 "nbformat": 4,
 "nbformat_minor": 5
}
